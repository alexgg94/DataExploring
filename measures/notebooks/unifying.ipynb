{
 "cells": [
  {
   "cell_type": "code",
   "execution_count": 1,
   "metadata": {},
   "outputs": [],
   "source": [
    "# read original data files and create unified data file"
   ]
  },
  {
   "cell_type": "code",
   "execution_count": 2,
   "metadata": {},
   "outputs": [
    {
     "name": "stdout",
     "output_type": "stream",
     "text": [
      "T-DHT22-measures.csv\n",
      "\u001b[30mProcessing T-DHT22-measures.csv\n",
      "\u001b[32m../data/raw/T-DHT22-measures.csv Has been processed successfully\n",
      "P-BMP280-measures.csv\n",
      "\u001b[30mProcessing P-BMP280-measures.csv\n",
      "\u001b[32m../data/raw/P-BMP280-measures.csv Has been processed successfully\n",
      "T-BMP280-measures.csv\n",
      "\u001b[30mProcessing T-BMP280-measures.csv\n",
      "\u001b[32m../data/raw/T-BMP280-measures.csv Has been processed successfully\n",
      "H-DHT11-measures.json\n",
      "\u001b[30mProcessing H-DHT11-measures.json\n",
      "\u001b[32m../data/raw/H-DHT11-measures.json Has been processed successfully\n",
      "T-DHT11-measures.csv\n",
      "\u001b[30mProcessing T-DHT11-measures.csv\n",
      "\u001b[32m../data/raw/T-DHT11-measures.csv Has been processed successfully\n",
      ".gitkeep\n",
      "\u001b[33m.gitkeep Ignored\n",
      "P-DM280-measures.json\n",
      "\u001b[30mProcessing P-DM280-measures.json\n",
      "\u001b[32m../data/raw/P-DM280-measures.json Has been processed successfully\n",
      "measures.tgz\n",
      "\u001b[33mmeasures.tgz Ignored\n",
      "T-HTU21-measures.json\n",
      "\u001b[30mProcessing T-HTU21-measures.json\n",
      "\u001b[32m../data/raw/T-HTU21-measures.json Has been processed successfully\n",
      "H-HTU21-measures.csv\n",
      "\u001b[30mProcessing H-HTU21-measures.csv\n",
      "\u001b[32m../data/raw/H-HTU21-measures.csv Has been processed successfully\n",
      "H-DHT22-measures.csv\n",
      "\u001b[30mProcessing H-DHT22-measures.csv\n",
      "\u001b[32m../data/raw/H-DHT22-measures.csv Has been processed successfully\n",
      "T-DM280-measures.json\n",
      "\u001b[30mProcessing T-DM280-measures.json\n",
      "\u001b[32m../data/raw/T-DM280-measures.json Has been processed successfully\n",
      "\u001b[30mSorting output by date...\n",
      "\u001b[32mSorting process done! \n"
     ]
    }
   ],
   "source": [
    "%run ../Scripts/unifyingScript2.py"
   ]
  },
  {
   "cell_type": "code",
   "execution_count": null,
   "metadata": {},
   "outputs": [],
   "source": []
  }
 ],
 "metadata": {
  "kernelspec": {
   "display_name": "Python 2",
   "language": "python",
   "name": "python2"
  },
  "language_info": {
   "codemirror_mode": {
    "name": "ipython",
    "version": 2
   },
   "file_extension": ".py",
   "mimetype": "text/x-python",
   "name": "python",
   "nbconvert_exporter": "python",
   "pygments_lexer": "ipython2",
   "version": "2.7.14"
  }
 },
 "nbformat": 4,
 "nbformat_minor": 2
}
