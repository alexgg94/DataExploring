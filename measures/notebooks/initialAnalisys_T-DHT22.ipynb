{
 "cells": [
  {
   "cell_type": "code",
   "execution_count": 1,
   "metadata": {},
   "outputs": [],
   "source": [
    "# Original data description"
   ]
  },
  {
   "cell_type": "code",
   "execution_count": 2,
   "metadata": {},
   "outputs": [],
   "source": [
    "import pandas as pd\n",
    "import numpy as np\n",
    "import matplotlib.pyplot as plt"
   ]
  },
  {
   "cell_type": "code",
   "execution_count": 3,
   "metadata": {},
   "outputs": [],
   "source": [
    "url=\"../data/raw/T-DHT22-measures.csv\"\n",
    "names=[\"sensor\",\"value\",\"time\"]\n",
    "dtype={\"sensor\":str,\"value\":float}\n",
    "parse_dates=[\"time\"]\n",
    "ds = pd.read_csv(url, dtype=dtype, parse_dates=parse_dates)"
   ]
  },
  {
   "cell_type": "code",
   "execution_count": 4,
   "metadata": {},
   "outputs": [
    {
     "data": {
      "text/plain": [
       "(1440150, 3)"
      ]
     },
     "execution_count": 4,
     "metadata": {},
     "output_type": "execute_result"
    }
   ],
   "source": [
    "ds.shape"
   ]
  },
  {
   "cell_type": "code",
   "execution_count": 5,
   "metadata": {},
   "outputs": [
    {
     "data": {
      "text/html": [
       "<div>\n",
       "<style scoped>\n",
       "    .dataframe tbody tr th:only-of-type {\n",
       "        vertical-align: middle;\n",
       "    }\n",
       "\n",
       "    .dataframe tbody tr th {\n",
       "        vertical-align: top;\n",
       "    }\n",
       "\n",
       "    .dataframe thead th {\n",
       "        text-align: right;\n",
       "    }\n",
       "</style>\n",
       "<table border=\"1\" class=\"dataframe\">\n",
       "  <thead>\n",
       "    <tr style=\"text-align: right;\">\n",
       "      <th></th>\n",
       "      <th>sensor</th>\n",
       "      <th>value</th>\n",
       "      <th>time</th>\n",
       "    </tr>\n",
       "  </thead>\n",
       "  <tbody>\n",
       "    <tr>\n",
       "      <th>0</th>\n",
       "      <td>T-DHT22</td>\n",
       "      <td>25.5</td>\n",
       "      <td>2017-12-19 14:07:18</td>\n",
       "    </tr>\n",
       "    <tr>\n",
       "      <th>1</th>\n",
       "      <td>T-DHT22</td>\n",
       "      <td>25.5</td>\n",
       "      <td>2017-12-19 14:07:25</td>\n",
       "    </tr>\n",
       "    <tr>\n",
       "      <th>2</th>\n",
       "      <td>T-DHT22</td>\n",
       "      <td>25.6</td>\n",
       "      <td>2017-12-19 14:07:32</td>\n",
       "    </tr>\n",
       "    <tr>\n",
       "      <th>3</th>\n",
       "      <td>T-DHT22</td>\n",
       "      <td>25.6</td>\n",
       "      <td>2017-12-19 14:07:38</td>\n",
       "    </tr>\n",
       "    <tr>\n",
       "      <th>4</th>\n",
       "      <td>T-DHT22</td>\n",
       "      <td>25.6</td>\n",
       "      <td>2017-12-19 14:07:45</td>\n",
       "    </tr>\n",
       "    <tr>\n",
       "      <th>5</th>\n",
       "      <td>T-DHT22</td>\n",
       "      <td>25.6</td>\n",
       "      <td>2017-12-19 14:07:52</td>\n",
       "    </tr>\n",
       "    <tr>\n",
       "      <th>6</th>\n",
       "      <td>T-DHT22</td>\n",
       "      <td>25.6</td>\n",
       "      <td>2017-12-19 14:07:59</td>\n",
       "    </tr>\n",
       "    <tr>\n",
       "      <th>7</th>\n",
       "      <td>T-DHT22</td>\n",
       "      <td>25.5</td>\n",
       "      <td>2017-12-19 14:08:06</td>\n",
       "    </tr>\n",
       "    <tr>\n",
       "      <th>8</th>\n",
       "      <td>T-DHT22</td>\n",
       "      <td>25.5</td>\n",
       "      <td>2017-12-19 14:08:12</td>\n",
       "    </tr>\n",
       "    <tr>\n",
       "      <th>9</th>\n",
       "      <td>T-DHT22</td>\n",
       "      <td>25.5</td>\n",
       "      <td>2017-12-19 14:08:19</td>\n",
       "    </tr>\n",
       "  </tbody>\n",
       "</table>\n",
       "</div>"
      ],
      "text/plain": [
       "    sensor  value                time\n",
       "0  T-DHT22   25.5 2017-12-19 14:07:18\n",
       "1  T-DHT22   25.5 2017-12-19 14:07:25\n",
       "2  T-DHT22   25.6 2017-12-19 14:07:32\n",
       "3  T-DHT22   25.6 2017-12-19 14:07:38\n",
       "4  T-DHT22   25.6 2017-12-19 14:07:45\n",
       "5  T-DHT22   25.6 2017-12-19 14:07:52\n",
       "6  T-DHT22   25.6 2017-12-19 14:07:59\n",
       "7  T-DHT22   25.5 2017-12-19 14:08:06\n",
       "8  T-DHT22   25.5 2017-12-19 14:08:12\n",
       "9  T-DHT22   25.5 2017-12-19 14:08:19"
      ]
     },
     "execution_count": 5,
     "metadata": {},
     "output_type": "execute_result"
    }
   ],
   "source": [
    "ds.head(10)"
   ]
  },
  {
   "cell_type": "code",
   "execution_count": 6,
   "metadata": {},
   "outputs": [
    {
     "data": {
      "text/html": [
       "<div>\n",
       "<style scoped>\n",
       "    .dataframe tbody tr th:only-of-type {\n",
       "        vertical-align: middle;\n",
       "    }\n",
       "\n",
       "    .dataframe tbody tr th {\n",
       "        vertical-align: top;\n",
       "    }\n",
       "\n",
       "    .dataframe thead th {\n",
       "        text-align: right;\n",
       "    }\n",
       "</style>\n",
       "<table border=\"1\" class=\"dataframe\">\n",
       "  <thead>\n",
       "    <tr style=\"text-align: right;\">\n",
       "      <th></th>\n",
       "      <th>sensor</th>\n",
       "      <th>value</th>\n",
       "      <th>time</th>\n",
       "    </tr>\n",
       "  </thead>\n",
       "  <tbody>\n",
       "    <tr>\n",
       "      <th>count</th>\n",
       "      <td>1440150</td>\n",
       "      <td>1.440150e+06</td>\n",
       "      <td>1440150</td>\n",
       "    </tr>\n",
       "    <tr>\n",
       "      <th>unique</th>\n",
       "      <td>1</td>\n",
       "      <td>NaN</td>\n",
       "      <td>1440150</td>\n",
       "    </tr>\n",
       "    <tr>\n",
       "      <th>top</th>\n",
       "      <td>T-DHT22</td>\n",
       "      <td>NaN</td>\n",
       "      <td>2018-02-09 02:41:10</td>\n",
       "    </tr>\n",
       "    <tr>\n",
       "      <th>freq</th>\n",
       "      <td>1440150</td>\n",
       "      <td>NaN</td>\n",
       "      <td>1</td>\n",
       "    </tr>\n",
       "    <tr>\n",
       "      <th>first</th>\n",
       "      <td>NaN</td>\n",
       "      <td>NaN</td>\n",
       "      <td>2017-12-19 14:07:18</td>\n",
       "    </tr>\n",
       "    <tr>\n",
       "      <th>last</th>\n",
       "      <td>NaN</td>\n",
       "      <td>NaN</td>\n",
       "      <td>2018-03-13 11:42:10</td>\n",
       "    </tr>\n",
       "    <tr>\n",
       "      <th>mean</th>\n",
       "      <td>NaN</td>\n",
       "      <td>2.299986e+01</td>\n",
       "      <td>NaN</td>\n",
       "    </tr>\n",
       "    <tr>\n",
       "      <th>std</th>\n",
       "      <td>NaN</td>\n",
       "      <td>2.480804e+00</td>\n",
       "      <td>NaN</td>\n",
       "    </tr>\n",
       "    <tr>\n",
       "      <th>min</th>\n",
       "      <td>NaN</td>\n",
       "      <td>1.670000e+01</td>\n",
       "      <td>NaN</td>\n",
       "    </tr>\n",
       "    <tr>\n",
       "      <th>25%</th>\n",
       "      <td>NaN</td>\n",
       "      <td>2.170000e+01</td>\n",
       "      <td>NaN</td>\n",
       "    </tr>\n",
       "    <tr>\n",
       "      <th>50%</th>\n",
       "      <td>NaN</td>\n",
       "      <td>2.330000e+01</td>\n",
       "      <td>NaN</td>\n",
       "    </tr>\n",
       "    <tr>\n",
       "      <th>75%</th>\n",
       "      <td>NaN</td>\n",
       "      <td>2.480000e+01</td>\n",
       "      <td>NaN</td>\n",
       "    </tr>\n",
       "    <tr>\n",
       "      <th>max</th>\n",
       "      <td>NaN</td>\n",
       "      <td>2.980000e+01</td>\n",
       "      <td>NaN</td>\n",
       "    </tr>\n",
       "  </tbody>\n",
       "</table>\n",
       "</div>"
      ],
      "text/plain": [
       "         sensor         value                 time\n",
       "count   1440150  1.440150e+06              1440150\n",
       "unique        1           NaN              1440150\n",
       "top     T-DHT22           NaN  2018-02-09 02:41:10\n",
       "freq    1440150           NaN                    1\n",
       "first       NaN           NaN  2017-12-19 14:07:18\n",
       "last        NaN           NaN  2018-03-13 11:42:10\n",
       "mean        NaN  2.299986e+01                  NaN\n",
       "std         NaN  2.480804e+00                  NaN\n",
       "min         NaN  1.670000e+01                  NaN\n",
       "25%         NaN  2.170000e+01                  NaN\n",
       "50%         NaN  2.330000e+01                  NaN\n",
       "75%         NaN  2.480000e+01                  NaN\n",
       "max         NaN  2.980000e+01                  NaN"
      ]
     },
     "execution_count": 6,
     "metadata": {},
     "output_type": "execute_result"
    }
   ],
   "source": [
    "ds.describe(include=\"all\")"
   ]
  },
  {
   "cell_type": "code",
   "execution_count": 7,
   "metadata": {},
   "outputs": [
    {
     "data": {
      "text/plain": [
       "22.6    32896\n",
       "24.0    32403\n",
       "23.7    31959\n",
       "23.8    30451\n",
       "23.3    29980\n",
       "24.3    27305\n",
       "22.1    26712\n",
       "23.5    26038\n",
       "22.5    25619\n",
       "23.6    25106\n",
       "22.7    25039\n",
       "21.9    24502\n",
       "23.2    23835\n",
       "22.3    23144\n",
       "23.0    23112\n",
       "25.0    22824\n",
       "22.2    22668\n",
       "23.9    22111\n",
       "21.6    21446\n",
       "22.9    21236\n",
       "22.0    21045\n",
       "24.5    20873\n",
       "24.7    20502\n",
       "25.5    19743\n",
       "25.7    19461\n",
       "23.4    19405\n",
       "25.3    19145\n",
       "22.4    18602\n",
       "21.5    18587\n",
       "21.8    18496\n",
       "        ...  \n",
       "27.7     2353\n",
       "20.1     2323\n",
       "16.9     2038\n",
       "27.9     1749\n",
       "16.8     1747\n",
       "17.2     1618\n",
       "17.1     1144\n",
       "17.0     1075\n",
       "19.1     1072\n",
       "28.0     1048\n",
       "28.1      881\n",
       "19.2      877\n",
       "28.2      671\n",
       "28.3      440\n",
       "28.4      321\n",
       "28.5      188\n",
       "28.8      170\n",
       "28.9      141\n",
       "28.6      139\n",
       "28.7      139\n",
       "29.0       73\n",
       "29.5       65\n",
       "29.3       51\n",
       "29.6       42\n",
       "29.4       42\n",
       "29.7       36\n",
       "29.2       32\n",
       "29.8       31\n",
       "29.1       29\n",
       "16.7       14\n",
       "Name: value, Length: 132, dtype: int64"
      ]
     },
     "execution_count": 7,
     "metadata": {},
     "output_type": "execute_result"
    }
   ],
   "source": [
    "ds[\"value\"].value_counts()"
   ]
  },
  {
   "cell_type": "code",
   "execution_count": 8,
   "metadata": {},
   "outputs": [
    {
     "data": {
      "text/plain": [
       "<matplotlib.axes._subplots.AxesSubplot at 0x7f41eebd74d0>"
      ]
     },
     "execution_count": 8,
     "metadata": {},
     "output_type": "execute_result"
    },
    {
     "data": {
      "image/png": "[encoded data removed]",
      "text/plain": [
       "<matplotlib.figure.Figure at 0x7f421c1edf10>"
      ]
     },
     "metadata": {},
     "output_type": "display_data"
    }
   ],
   "source": [
    "ds[\"value\"].plot.hist()"
   ]
  },
  {
   "cell_type": "code",
   "execution_count": null,
   "metadata": {},
   "outputs": [],
   "source": []
  }
 ],
 "metadata": {
  "kernelspec": {
   "display_name": "Python 2",
   "language": "python",
   "name": "python2"
  },
  "language_info": {
   "codemirror_mode": {
    "name": "ipython",
    "version": 2
   },
   "file_extension": ".py",
   "mimetype": "text/x-python",
   "name": "python",
   "nbconvert_exporter": "python",
   "pygments_lexer": "ipython2",
   "version": "2.7.14"
  }
 },
 "nbformat": 4,
 "nbformat_minor": 2
}
