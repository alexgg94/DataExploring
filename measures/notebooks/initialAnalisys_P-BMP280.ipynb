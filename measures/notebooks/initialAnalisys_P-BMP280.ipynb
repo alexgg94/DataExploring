{
 "cells": [
  {
   "cell_type": "code",
   "execution_count": 1,
   "metadata": {},
   "outputs": [],
   "source": [
    "# Original data description"
   ]
  },
  {
   "cell_type": "code",
   "execution_count": 2,
   "metadata": {},
   "outputs": [],
   "source": [
    "import pandas as pd\n",
    "import numpy as np\n",
    "import matplotlib.pyplot as plt"
   ]
  },
  {
   "cell_type": "code",
   "execution_count": 12,
   "metadata": {},
   "outputs": [],
   "source": [
    "url=\"../data/raw/P-BMP280-measures.csv\"\n",
    "names=[\"sensor\",\"value\",\"time\"]\n",
    "dtype={\"sensor\":str,\"value\":float}\n",
    "parse_dates=[\"time\"]\n",
    "ds = pd.read_csv(url, dtype=dtype, parse_dates=parse_dates)"
   ]
  },
  {
   "cell_type": "code",
   "execution_count": 4,
   "metadata": {},
   "outputs": [
    {
     "data": {
      "text/plain": [
       "(1422788, 3)"
      ]
     },
     "execution_count": 4,
     "metadata": {},
     "output_type": "execute_result"
    }
   ],
   "source": [
    "ds.shape"
   ]
  },
  {
   "cell_type": "code",
   "execution_count": 5,
   "metadata": {},
   "outputs": [
    {
     "data": {
      "text/html": [
       "<div>\n",
       "<style scoped>\n",
       "    .dataframe tbody tr th:only-of-type {\n",
       "        vertical-align: middle;\n",
       "    }\n",
       "\n",
       "    .dataframe tbody tr th {\n",
       "        vertical-align: top;\n",
       "    }\n",
       "\n",
       "    .dataframe thead th {\n",
       "        text-align: right;\n",
       "    }\n",
       "</style>\n",
       "<table border=\"1\" class=\"dataframe\">\n",
       "  <thead>\n",
       "    <tr style=\"text-align: right;\">\n",
       "      <th></th>\n",
       "      <th>sensor</th>\n",
       "      <th>value</th>\n",
       "      <th>time</th>\n",
       "    </tr>\n",
       "  </thead>\n",
       "  <tbody>\n",
       "    <tr>\n",
       "      <th>0</th>\n",
       "      <td>P-BMP280</td>\n",
       "      <td>1035.56</td>\n",
       "      <td>2017-12-22 10:52:59</td>\n",
       "    </tr>\n",
       "    <tr>\n",
       "      <th>1</th>\n",
       "      <td>P-BMP280</td>\n",
       "      <td>1035.55</td>\n",
       "      <td>2017-12-22 10:53:02</td>\n",
       "    </tr>\n",
       "    <tr>\n",
       "      <th>2</th>\n",
       "      <td>P-BMP280</td>\n",
       "      <td>1035.54</td>\n",
       "      <td>2017-12-22 10:53:05</td>\n",
       "    </tr>\n",
       "    <tr>\n",
       "      <th>3</th>\n",
       "      <td>P-BMP280</td>\n",
       "      <td>1035.54</td>\n",
       "      <td>2017-12-22 10:53:08</td>\n",
       "    </tr>\n",
       "    <tr>\n",
       "      <th>4</th>\n",
       "      <td>P-BMP280</td>\n",
       "      <td>1035.53</td>\n",
       "      <td>2017-12-22 10:53:11</td>\n",
       "    </tr>\n",
       "    <tr>\n",
       "      <th>5</th>\n",
       "      <td>P-BMP280</td>\n",
       "      <td>1035.54</td>\n",
       "      <td>2017-12-22 10:53:14</td>\n",
       "    </tr>\n",
       "    <tr>\n",
       "      <th>6</th>\n",
       "      <td>P-BMP280</td>\n",
       "      <td>1035.57</td>\n",
       "      <td>2017-12-22 10:53:18</td>\n",
       "    </tr>\n",
       "    <tr>\n",
       "      <th>7</th>\n",
       "      <td>P-BMP280</td>\n",
       "      <td>1035.53</td>\n",
       "      <td>2017-12-22 10:53:21</td>\n",
       "    </tr>\n",
       "    <tr>\n",
       "      <th>8</th>\n",
       "      <td>P-BMP280</td>\n",
       "      <td>1035.55</td>\n",
       "      <td>2017-12-22 10:53:24</td>\n",
       "    </tr>\n",
       "    <tr>\n",
       "      <th>9</th>\n",
       "      <td>P-BMP280</td>\n",
       "      <td>1035.55</td>\n",
       "      <td>2017-12-22 10:53:27</td>\n",
       "    </tr>\n",
       "  </tbody>\n",
       "</table>\n",
       "</div>"
      ],
      "text/plain": [
       "     sensor    value                time\n",
       "0  P-BMP280  1035.56 2017-12-22 10:52:59\n",
       "1  P-BMP280  1035.55 2017-12-22 10:53:02\n",
       "2  P-BMP280  1035.54 2017-12-22 10:53:05\n",
       "3  P-BMP280  1035.54 2017-12-22 10:53:08\n",
       "4  P-BMP280  1035.53 2017-12-22 10:53:11\n",
       "5  P-BMP280  1035.54 2017-12-22 10:53:14\n",
       "6  P-BMP280  1035.57 2017-12-22 10:53:18\n",
       "7  P-BMP280  1035.53 2017-12-22 10:53:21\n",
       "8  P-BMP280  1035.55 2017-12-22 10:53:24\n",
       "9  P-BMP280  1035.55 2017-12-22 10:53:27"
      ]
     },
     "execution_count": 5,
     "metadata": {},
     "output_type": "execute_result"
    }
   ],
   "source": [
    "ds.head(10)"
   ]
  },
  {
   "cell_type": "code",
   "execution_count": 6,
   "metadata": {},
   "outputs": [
    {
     "data": {
      "text/html": [
       "<div>\n",
       "<style scoped>\n",
       "    .dataframe tbody tr th:only-of-type {\n",
       "        vertical-align: middle;\n",
       "    }\n",
       "\n",
       "    .dataframe tbody tr th {\n",
       "        vertical-align: top;\n",
       "    }\n",
       "\n",
       "    .dataframe thead th {\n",
       "        text-align: right;\n",
       "    }\n",
       "</style>\n",
       "<table border=\"1\" class=\"dataframe\">\n",
       "  <thead>\n",
       "    <tr style=\"text-align: right;\">\n",
       "      <th></th>\n",
       "      <th>sensor</th>\n",
       "      <th>value</th>\n",
       "      <th>time</th>\n",
       "    </tr>\n",
       "  </thead>\n",
       "  <tbody>\n",
       "    <tr>\n",
       "      <th>count</th>\n",
       "      <td>1422788</td>\n",
       "      <td>1.422788e+06</td>\n",
       "      <td>1422788</td>\n",
       "    </tr>\n",
       "    <tr>\n",
       "      <th>unique</th>\n",
       "      <td>1</td>\n",
       "      <td>NaN</td>\n",
       "      <td>1422788</td>\n",
       "    </tr>\n",
       "    <tr>\n",
       "      <th>top</th>\n",
       "      <td>P-BMP280</td>\n",
       "      <td>NaN</td>\n",
       "      <td>2018-01-11 04:46:22</td>\n",
       "    </tr>\n",
       "    <tr>\n",
       "      <th>freq</th>\n",
       "      <td>1422788</td>\n",
       "      <td>NaN</td>\n",
       "      <td>1</td>\n",
       "    </tr>\n",
       "    <tr>\n",
       "      <th>first</th>\n",
       "      <td>NaN</td>\n",
       "      <td>NaN</td>\n",
       "      <td>2017-12-22 10:52:59</td>\n",
       "    </tr>\n",
       "    <tr>\n",
       "      <th>last</th>\n",
       "      <td>NaN</td>\n",
       "      <td>NaN</td>\n",
       "      <td>2018-03-13 11:42:08</td>\n",
       "    </tr>\n",
       "    <tr>\n",
       "      <th>mean</th>\n",
       "      <td>NaN</td>\n",
       "      <td>1.015690e+03</td>\n",
       "      <td>NaN</td>\n",
       "    </tr>\n",
       "    <tr>\n",
       "      <th>std</th>\n",
       "      <td>NaN</td>\n",
       "      <td>1.011063e+01</td>\n",
       "      <td>NaN</td>\n",
       "    </tr>\n",
       "    <tr>\n",
       "      <th>min</th>\n",
       "      <td>NaN</td>\n",
       "      <td>9.856200e+02</td>\n",
       "      <td>NaN</td>\n",
       "    </tr>\n",
       "    <tr>\n",
       "      <th>25%</th>\n",
       "      <td>NaN</td>\n",
       "      <td>1.008670e+03</td>\n",
       "      <td>NaN</td>\n",
       "    </tr>\n",
       "    <tr>\n",
       "      <th>50%</th>\n",
       "      <td>NaN</td>\n",
       "      <td>1.016970e+03</td>\n",
       "      <td>NaN</td>\n",
       "    </tr>\n",
       "    <tr>\n",
       "      <th>75%</th>\n",
       "      <td>NaN</td>\n",
       "      <td>1.022570e+03</td>\n",
       "      <td>NaN</td>\n",
       "    </tr>\n",
       "    <tr>\n",
       "      <th>max</th>\n",
       "      <td>NaN</td>\n",
       "      <td>1.039050e+03</td>\n",
       "      <td>NaN</td>\n",
       "    </tr>\n",
       "  </tbody>\n",
       "</table>\n",
       "</div>"
      ],
      "text/plain": [
       "          sensor         value                 time\n",
       "count    1422788  1.422788e+06              1422788\n",
       "unique         1           NaN              1422788\n",
       "top     P-BMP280           NaN  2018-01-11 04:46:22\n",
       "freq     1422788           NaN                    1\n",
       "first        NaN           NaN  2017-12-22 10:52:59\n",
       "last         NaN           NaN  2018-03-13 11:42:08\n",
       "mean         NaN  1.015690e+03                  NaN\n",
       "std          NaN  1.011063e+01                  NaN\n",
       "min          NaN  9.856200e+02                  NaN\n",
       "25%          NaN  1.008670e+03                  NaN\n",
       "50%          NaN  1.016970e+03                  NaN\n",
       "75%          NaN  1.022570e+03                  NaN\n",
       "max          NaN  1.039050e+03                  NaN"
      ]
     },
     "execution_count": 6,
     "metadata": {},
     "output_type": "execute_result"
    }
   ],
   "source": [
    "ds.describe(include=\"all\")"
   ]
  },
  {
   "cell_type": "code",
   "execution_count": 7,
   "metadata": {},
   "outputs": [
    {
     "data": {
      "text/plain": [
       "1024.72    1132\n",
       "1024.71    1105\n",
       "1024.73    1098\n",
       "1017.95    1094\n",
       "1018.36    1093\n",
       "1018.05    1080\n",
       "1018.35    1076\n",
       "1017.96    1069\n",
       "1014.90    1067\n",
       "1017.94    1067\n",
       "1024.70    1063\n",
       "1018.04    1056\n",
       "1024.69    1054\n",
       "1014.86    1053\n",
       "1014.85    1052\n",
       "1018.07    1051\n",
       "1018.37    1043\n",
       "1017.97    1039\n",
       "1014.87    1039\n",
       "1007.35    1033\n",
       "1017.98    1031\n",
       "1014.89    1031\n",
       "1014.88    1031\n",
       "1024.68    1029\n",
       "1017.93    1026\n",
       "1018.08    1019\n",
       "1024.59    1016\n",
       "1018.38    1012\n",
       "1008.26    1007\n",
       "1018.41    1005\n",
       "           ... \n",
       "988.41        5\n",
       "988.72        5\n",
       "988.12        5\n",
       "985.92        5\n",
       "988.62        5\n",
       "988.90        5\n",
       "988.69        4\n",
       "1039.04       4\n",
       "988.08        4\n",
       "1031.79       4\n",
       "988.59        4\n",
       "988.88        4\n",
       "988.79        4\n",
       "988.71        4\n",
       "988.92        4\n",
       "988.02        4\n",
       "1031.74       4\n",
       "989.45        4\n",
       "988.44        4\n",
       "988.91        3\n",
       "1031.77       3\n",
       "985.94        3\n",
       "985.91        3\n",
       "988.43        3\n",
       "988.68        2\n",
       "988.75        2\n",
       "988.76        2\n",
       "985.62        1\n",
       "988.60        1\n",
       "1039.05       1\n",
       "Name: value, Length: 5343, dtype: int64"
      ]
     },
     "execution_count": 7,
     "metadata": {},
     "output_type": "execute_result"
    }
   ],
   "source": [
    "ds[\"value\"].value_counts()"
   ]
  },
  {
   "cell_type": "code",
   "execution_count": 9,
   "metadata": {},
   "outputs": [
    {
     "data": {
      "text/plain": [
       "<matplotlib.axes._subplots.AxesSubplot at 0x7f079bcdec90>"
      ]
     },
     "execution_count": 9,
     "metadata": {},
     "output_type": "execute_result"
    },
    {
     "data": {
      "image/png": "[encoded data removed]",
      "text/plain": [
       "<matplotlib.figure.Figure at 0x7f079c950f90>"
      ]
     },
     "metadata": {},
     "output_type": "display_data"
    }
   ],
   "source": [
    "ds[\"value\"].plot.hist()"
   ]
  },
  {
   "cell_type": "code",
   "execution_count": null,
   "metadata": {},
   "outputs": [],
   "source": []
  }
 ],
 "metadata": {
  "kernelspec": {
   "display_name": "Python 2",
   "language": "python",
   "name": "python2"
  },
  "language_info": {
   "codemirror_mode": {
    "name": "ipython",
    "version": 2
   },
   "file_extension": ".py",
   "mimetype": "text/x-python",
   "name": "python",
   "nbconvert_exporter": "python",
   "pygments_lexer": "ipython2",
   "version": "2.7.14"
  }
 },
 "nbformat": 4,
 "nbformat_minor": 2
}
