{
 "cells": [
  {
   "cell_type": "code",
   "execution_count": 1,
   "metadata": {},
   "outputs": [],
   "source": [
    "import pandas as pd\n",
    "import matplotlib.pyplot as plt\n",
    "import numpy as np"
   ]
  },
  {
   "cell_type": "code",
   "execution_count": 2,
   "metadata": {},
   "outputs": [],
   "source": [
    "url=\"../data/processed/sorted_output.csv\"\n",
    "parse_dates=[\"time\"]\n",
    "ds = pd.read_csv(url, parse_dates=parse_dates)"
   ]
  },
  {
   "cell_type": "code",
   "execution_count": 4,
   "metadata": {},
   "outputs": [],
   "source": [
    "# Analizing only Temperature information\n",
    "dsp = ds[pd.notnull(ds[\"P\"])]\n",
    "dsp = dsp[[\"time\",\"sensor\",\"P\"]]\n",
    "dsp[\"time\"] = dsp[\"time\"].values.astype('<M8[m]')"
   ]
  },
  {
   "cell_type": "code",
   "execution_count": 5,
   "metadata": {},
   "outputs": [
    {
     "data": {
      "text/plain": [
       "(1422792, 3)"
      ]
     },
     "execution_count": 5,
     "metadata": {},
     "output_type": "execute_result"
    }
   ],
   "source": [
    "dsp.shape"
   ]
  },
  {
   "cell_type": "code",
   "execution_count": 6,
   "metadata": {
    "scrolled": true
   },
   "outputs": [
    {
     "data": {
      "text/plain": [
       "BMP280    1422788\n",
       "DM280           4\n",
       "Name: sensor, dtype: int64"
      ]
     },
     "execution_count": 6,
     "metadata": {},
     "output_type": "execute_result"
    }
   ],
   "source": [
    "dsp[\"sensor\"].value_counts()"
   ]
  },
  {
   "cell_type": "code",
   "execution_count": 7,
   "metadata": {
    "scrolled": true
   },
   "outputs": [
    {
     "data": {
      "text/html": [
       "<div>\n",
       "<style scoped>\n",
       "    .dataframe tbody tr th:only-of-type {\n",
       "        vertical-align: middle;\n",
       "    }\n",
       "\n",
       "    .dataframe tbody tr th {\n",
       "        vertical-align: top;\n",
       "    }\n",
       "\n",
       "    .dataframe thead th {\n",
       "        text-align: right;\n",
       "    }\n",
       "</style>\n",
       "<table border=\"1\" class=\"dataframe\">\n",
       "  <thead>\n",
       "    <tr style=\"text-align: right;\">\n",
       "      <th></th>\n",
       "      <th>time</th>\n",
       "      <th>sensor</th>\n",
       "      <th>P</th>\n",
       "    </tr>\n",
       "  </thead>\n",
       "  <tbody>\n",
       "    <tr>\n",
       "      <th>5731606</th>\n",
       "      <td>2018-03-09 23:18:00</td>\n",
       "      <td>BMP280</td>\n",
       "      <td>1008.55</td>\n",
       "    </tr>\n",
       "    <tr>\n",
       "      <th>5372253</th>\n",
       "      <td>2018-03-05 20:48:00</td>\n",
       "      <td>BMP280</td>\n",
       "      <td>992.64</td>\n",
       "    </tr>\n",
       "    <tr>\n",
       "      <th>4035260</th>\n",
       "      <td>2018-02-14 01:41:00</td>\n",
       "      <td>BMP280</td>\n",
       "      <td>1015.37</td>\n",
       "    </tr>\n",
       "    <tr>\n",
       "      <th>3105911</th>\n",
       "      <td>2018-02-03 08:04:00</td>\n",
       "      <td>BMP280</td>\n",
       "      <td>1014.16</td>\n",
       "    </tr>\n",
       "    <tr>\n",
       "      <th>2940513</th>\n",
       "      <td>2018-02-01 10:07:00</td>\n",
       "      <td>BMP280</td>\n",
       "      <td>1011.09</td>\n",
       "    </tr>\n",
       "    <tr>\n",
       "      <th>245837</th>\n",
       "      <td>2017-12-25 03:47:00</td>\n",
       "      <td>BMP280</td>\n",
       "      <td>1028.65</td>\n",
       "    </tr>\n",
       "    <tr>\n",
       "      <th>3818710</th>\n",
       "      <td>2018-02-11 11:46:00</td>\n",
       "      <td>BMP280</td>\n",
       "      <td>1017.16</td>\n",
       "    </tr>\n",
       "    <tr>\n",
       "      <th>1641771</th>\n",
       "      <td>2018-01-15 21:20:00</td>\n",
       "      <td>BMP280</td>\n",
       "      <td>1024.38</td>\n",
       "    </tr>\n",
       "    <tr>\n",
       "      <th>2539064</th>\n",
       "      <td>2018-01-26 16:33:00</td>\n",
       "      <td>BMP280</td>\n",
       "      <td>1017.34</td>\n",
       "    </tr>\n",
       "    <tr>\n",
       "      <th>1455139</th>\n",
       "      <td>2018-01-13 17:10:00</td>\n",
       "      <td>BMP280</td>\n",
       "      <td>1015.69</td>\n",
       "    </tr>\n",
       "  </tbody>\n",
       "</table>\n",
       "</div>"
      ],
      "text/plain": [
       "                       time  sensor        P\n",
       "5731606 2018-03-09 23:18:00  BMP280  1008.55\n",
       "5372253 2018-03-05 20:48:00  BMP280   992.64\n",
       "4035260 2018-02-14 01:41:00  BMP280  1015.37\n",
       "3105911 2018-02-03 08:04:00  BMP280  1014.16\n",
       "2940513 2018-02-01 10:07:00  BMP280  1011.09\n",
       "245837  2017-12-25 03:47:00  BMP280  1028.65\n",
       "3818710 2018-02-11 11:46:00  BMP280  1017.16\n",
       "1641771 2018-01-15 21:20:00  BMP280  1024.38\n",
       "2539064 2018-01-26 16:33:00  BMP280  1017.34\n",
       "1455139 2018-01-13 17:10:00  BMP280  1015.69"
      ]
     },
     "execution_count": 7,
     "metadata": {},
     "output_type": "execute_result"
    }
   ],
   "source": [
    "dsp.sample(10)"
   ]
  },
  {
   "cell_type": "code",
   "execution_count": 8,
   "metadata": {},
   "outputs": [
    {
     "data": {
      "text/html": [
       "<div>\n",
       "<style scoped>\n",
       "    .dataframe tbody tr th:only-of-type {\n",
       "        vertical-align: middle;\n",
       "    }\n",
       "\n",
       "    .dataframe tbody tr th {\n",
       "        vertical-align: top;\n",
       "    }\n",
       "\n",
       "    .dataframe thead th {\n",
       "        text-align: right;\n",
       "    }\n",
       "</style>\n",
       "<table border=\"1\" class=\"dataframe\">\n",
       "  <thead>\n",
       "    <tr style=\"text-align: right;\">\n",
       "      <th></th>\n",
       "      <th>time</th>\n",
       "      <th>sensor</th>\n",
       "      <th>P</th>\n",
       "    </tr>\n",
       "  </thead>\n",
       "  <tbody>\n",
       "    <tr>\n",
       "      <th>count</th>\n",
       "      <td>1422792</td>\n",
       "      <td>1422792</td>\n",
       "      <td>1.422792e+06</td>\n",
       "    </tr>\n",
       "    <tr>\n",
       "      <th>unique</th>\n",
       "      <td>101098</td>\n",
       "      <td>2</td>\n",
       "      <td>NaN</td>\n",
       "    </tr>\n",
       "    <tr>\n",
       "      <th>top</th>\n",
       "      <td>2017-12-22 11:18:00</td>\n",
       "      <td>BMP280</td>\n",
       "      <td>NaN</td>\n",
       "    </tr>\n",
       "    <tr>\n",
       "      <th>freq</th>\n",
       "      <td>20</td>\n",
       "      <td>1422788</td>\n",
       "      <td>NaN</td>\n",
       "    </tr>\n",
       "    <tr>\n",
       "      <th>first</th>\n",
       "      <td>2017-12-22 10:51:00</td>\n",
       "      <td>NaN</td>\n",
       "      <td>NaN</td>\n",
       "    </tr>\n",
       "    <tr>\n",
       "      <th>last</th>\n",
       "      <td>2018-03-13 11:42:00</td>\n",
       "      <td>NaN</td>\n",
       "      <td>NaN</td>\n",
       "    </tr>\n",
       "    <tr>\n",
       "      <th>mean</th>\n",
       "      <td>NaN</td>\n",
       "      <td>NaN</td>\n",
       "      <td>1.015690e+03</td>\n",
       "    </tr>\n",
       "    <tr>\n",
       "      <th>std</th>\n",
       "      <td>NaN</td>\n",
       "      <td>NaN</td>\n",
       "      <td>1.011069e+01</td>\n",
       "    </tr>\n",
       "    <tr>\n",
       "      <th>min</th>\n",
       "      <td>NaN</td>\n",
       "      <td>NaN</td>\n",
       "      <td>9.856200e+02</td>\n",
       "    </tr>\n",
       "    <tr>\n",
       "      <th>25%</th>\n",
       "      <td>NaN</td>\n",
       "      <td>NaN</td>\n",
       "      <td>1.008670e+03</td>\n",
       "    </tr>\n",
       "    <tr>\n",
       "      <th>50%</th>\n",
       "      <td>NaN</td>\n",
       "      <td>NaN</td>\n",
       "      <td>1.016970e+03</td>\n",
       "    </tr>\n",
       "    <tr>\n",
       "      <th>75%</th>\n",
       "      <td>NaN</td>\n",
       "      <td>NaN</td>\n",
       "      <td>1.022570e+03</td>\n",
       "    </tr>\n",
       "    <tr>\n",
       "      <th>max</th>\n",
       "      <td>NaN</td>\n",
       "      <td>NaN</td>\n",
       "      <td>1.040000e+03</td>\n",
       "    </tr>\n",
       "  </tbody>\n",
       "</table>\n",
       "</div>"
      ],
      "text/plain": [
       "                       time   sensor             P\n",
       "count               1422792  1422792  1.422792e+06\n",
       "unique               101098        2           NaN\n",
       "top     2017-12-22 11:18:00   BMP280           NaN\n",
       "freq                     20  1422788           NaN\n",
       "first   2017-12-22 10:51:00      NaN           NaN\n",
       "last    2018-03-13 11:42:00      NaN           NaN\n",
       "mean                    NaN      NaN  1.015690e+03\n",
       "std                     NaN      NaN  1.011069e+01\n",
       "min                     NaN      NaN  9.856200e+02\n",
       "25%                     NaN      NaN  1.008670e+03\n",
       "50%                     NaN      NaN  1.016970e+03\n",
       "75%                     NaN      NaN  1.022570e+03\n",
       "max                     NaN      NaN  1.040000e+03"
      ]
     },
     "execution_count": 8,
     "metadata": {},
     "output_type": "execute_result"
    }
   ],
   "source": [
    "dst.describe(include=\"all\")"
   ]
  },
  {
   "cell_type": "code",
   "execution_count": 9,
   "metadata": {
    "scrolled": true
   },
   "outputs": [],
   "source": [
    "fig_size = plt.rcParams[\"figure.figsize\"]\n",
    "fig_size[0] = 20\n",
    "fig_size[1] = 10\n",
    "plt.rcParams[\"figure.figsize\"] = fig_size"
   ]
  },
  {
   "cell_type": "code",
   "execution_count": 12,
   "metadata": {},
   "outputs": [
    {
     "data": {
      "text/plain": [
       "<matplotlib.legend.Legend at 0x7fefab4aec50>"
      ]
     },
     "execution_count": 12,
     "metadata": {},
     "output_type": "execute_result"
    },
    {
     "data": {
      "image/png": "[encoded data removed]",
      "text/plain": [
       "<matplotlib.figure.Figure at 0x7fefa7781c90>"
      ]
     },
     "metadata": {},
     "output_type": "display_data"
    }
   ],
   "source": [
    "plt.plot(dsp[\"time\"], dsp[\"P\"], label=\"BMP280\")\n",
    "plt.xlabel(\"Preassure\")\n",
    "plt.ylabel(\"Temperature\")\n",
    "plt.legend()"
   ]
  },
  {
   "cell_type": "code",
   "execution_count": 17,
   "metadata": {},
   "outputs": [],
   "source": []
  }
 ],
 "metadata": {
  "kernelspec": {
   "display_name": "Python 2",
   "language": "python",
   "name": "python2"
  },
  "language_info": {
   "codemirror_mode": {
    "name": "ipython",
    "version": 2
   },
   "file_extension": ".py",
   "mimetype": "text/x-python",
   "name": "python",
   "nbconvert_exporter": "python",
   "pygments_lexer": "ipython2",
   "version": "2.7.14"
  }
 },
 "nbformat": 4,
 "nbformat_minor": 2
}
