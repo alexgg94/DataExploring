{
 "cells": [
  {
   "cell_type": "code",
   "execution_count": 1,
   "metadata": {},
   "outputs": [],
   "source": [
    "# Original data description"
   ]
  },
  {
   "cell_type": "code",
   "execution_count": 2,
   "metadata": {},
   "outputs": [],
   "source": [
    "import pandas as pd\n",
    "import numpy as np\n",
    "import matplotlib.pyplot as plt"
   ]
  },
  {
   "cell_type": "code",
   "execution_count": 3,
   "metadata": {},
   "outputs": [],
   "source": [
    "url=\"../data/raw/T-BMP280-measures.csv\"\n",
    "names=[\"sensor\",\"value\",\"time\"]\n",
    "dtype={\"sensor\":str,\"value\":float}\n",
    "parse_dates=[\"time\"]\n",
    "ds = pd.read_csv(url, dtype=dtype, parse_dates=parse_dates)"
   ]
  },
  {
   "cell_type": "code",
   "execution_count": 4,
   "metadata": {},
   "outputs": [
    {
     "data": {
      "text/plain": [
       "(1422795, 3)"
      ]
     },
     "execution_count": 4,
     "metadata": {},
     "output_type": "execute_result"
    }
   ],
   "source": [
    "ds.shape"
   ]
  },
  {
   "cell_type": "code",
   "execution_count": 5,
   "metadata": {},
   "outputs": [
    {
     "data": {
      "text/html": [
       "<div>\n",
       "<style scoped>\n",
       "    .dataframe tbody tr th:only-of-type {\n",
       "        vertical-align: middle;\n",
       "    }\n",
       "\n",
       "    .dataframe tbody tr th {\n",
       "        vertical-align: top;\n",
       "    }\n",
       "\n",
       "    .dataframe thead th {\n",
       "        text-align: right;\n",
       "    }\n",
       "</style>\n",
       "<table border=\"1\" class=\"dataframe\">\n",
       "  <thead>\n",
       "    <tr style=\"text-align: right;\">\n",
       "      <th></th>\n",
       "      <th>sensor</th>\n",
       "      <th>value</th>\n",
       "      <th>time</th>\n",
       "    </tr>\n",
       "  </thead>\n",
       "  <tbody>\n",
       "    <tr>\n",
       "      <th>0</th>\n",
       "      <td>T-BMP280</td>\n",
       "      <td>26.43</td>\n",
       "      <td>2017-12-22 10:52:59</td>\n",
       "    </tr>\n",
       "    <tr>\n",
       "      <th>1</th>\n",
       "      <td>T-BMP280</td>\n",
       "      <td>26.43</td>\n",
       "      <td>2017-12-22 10:53:02</td>\n",
       "    </tr>\n",
       "    <tr>\n",
       "      <th>2</th>\n",
       "      <td>T-BMP280</td>\n",
       "      <td>26.44</td>\n",
       "      <td>2017-12-22 10:53:05</td>\n",
       "    </tr>\n",
       "    <tr>\n",
       "      <th>3</th>\n",
       "      <td>T-BMP280</td>\n",
       "      <td>26.44</td>\n",
       "      <td>2017-12-22 10:53:08</td>\n",
       "    </tr>\n",
       "    <tr>\n",
       "      <th>4</th>\n",
       "      <td>T-BMP280</td>\n",
       "      <td>26.42</td>\n",
       "      <td>2017-12-22 10:53:11</td>\n",
       "    </tr>\n",
       "    <tr>\n",
       "      <th>5</th>\n",
       "      <td>T-BMP280</td>\n",
       "      <td>26.43</td>\n",
       "      <td>2017-12-22 10:53:14</td>\n",
       "    </tr>\n",
       "    <tr>\n",
       "      <th>6</th>\n",
       "      <td>T-BMP280</td>\n",
       "      <td>26.44</td>\n",
       "      <td>2017-12-22 10:53:18</td>\n",
       "    </tr>\n",
       "    <tr>\n",
       "      <th>7</th>\n",
       "      <td>T-BMP280</td>\n",
       "      <td>26.43</td>\n",
       "      <td>2017-12-22 10:53:21</td>\n",
       "    </tr>\n",
       "    <tr>\n",
       "      <th>8</th>\n",
       "      <td>T-BMP280</td>\n",
       "      <td>26.42</td>\n",
       "      <td>2017-12-22 10:53:24</td>\n",
       "    </tr>\n",
       "    <tr>\n",
       "      <th>9</th>\n",
       "      <td>T-BMP280</td>\n",
       "      <td>26.42</td>\n",
       "      <td>2017-12-22 10:53:27</td>\n",
       "    </tr>\n",
       "  </tbody>\n",
       "</table>\n",
       "</div>"
      ],
      "text/plain": [
       "     sensor  value                time\n",
       "0  T-BMP280  26.43 2017-12-22 10:52:59\n",
       "1  T-BMP280  26.43 2017-12-22 10:53:02\n",
       "2  T-BMP280  26.44 2017-12-22 10:53:05\n",
       "3  T-BMP280  26.44 2017-12-22 10:53:08\n",
       "4  T-BMP280  26.42 2017-12-22 10:53:11\n",
       "5  T-BMP280  26.43 2017-12-22 10:53:14\n",
       "6  T-BMP280  26.44 2017-12-22 10:53:18\n",
       "7  T-BMP280  26.43 2017-12-22 10:53:21\n",
       "8  T-BMP280  26.42 2017-12-22 10:53:24\n",
       "9  T-BMP280  26.42 2017-12-22 10:53:27"
      ]
     },
     "execution_count": 5,
     "metadata": {},
     "output_type": "execute_result"
    }
   ],
   "source": [
    "ds.head(10)"
   ]
  },
  {
   "cell_type": "code",
   "execution_count": 6,
   "metadata": {},
   "outputs": [
    {
     "data": {
      "text/html": [
       "<div>\n",
       "<style scoped>\n",
       "    .dataframe tbody tr th:only-of-type {\n",
       "        vertical-align: middle;\n",
       "    }\n",
       "\n",
       "    .dataframe tbody tr th {\n",
       "        vertical-align: top;\n",
       "    }\n",
       "\n",
       "    .dataframe thead th {\n",
       "        text-align: right;\n",
       "    }\n",
       "</style>\n",
       "<table border=\"1\" class=\"dataframe\">\n",
       "  <thead>\n",
       "    <tr style=\"text-align: right;\">\n",
       "      <th></th>\n",
       "      <th>sensor</th>\n",
       "      <th>value</th>\n",
       "      <th>time</th>\n",
       "    </tr>\n",
       "  </thead>\n",
       "  <tbody>\n",
       "    <tr>\n",
       "      <th>count</th>\n",
       "      <td>1422795</td>\n",
       "      <td>1.422795e+06</td>\n",
       "      <td>1422795</td>\n",
       "    </tr>\n",
       "    <tr>\n",
       "      <th>unique</th>\n",
       "      <td>1</td>\n",
       "      <td>NaN</td>\n",
       "      <td>1422795</td>\n",
       "    </tr>\n",
       "    <tr>\n",
       "      <th>top</th>\n",
       "      <td>T-BMP280</td>\n",
       "      <td>NaN</td>\n",
       "      <td>2018-01-11 04:46:22</td>\n",
       "    </tr>\n",
       "    <tr>\n",
       "      <th>freq</th>\n",
       "      <td>1422795</td>\n",
       "      <td>NaN</td>\n",
       "      <td>1</td>\n",
       "    </tr>\n",
       "    <tr>\n",
       "      <th>first</th>\n",
       "      <td>NaN</td>\n",
       "      <td>NaN</td>\n",
       "      <td>2017-12-22 10:52:59</td>\n",
       "    </tr>\n",
       "    <tr>\n",
       "      <th>last</th>\n",
       "      <td>NaN</td>\n",
       "      <td>NaN</td>\n",
       "      <td>2018-03-13 11:42:08</td>\n",
       "    </tr>\n",
       "    <tr>\n",
       "      <th>mean</th>\n",
       "      <td>NaN</td>\n",
       "      <td>2.224838e+01</td>\n",
       "      <td>NaN</td>\n",
       "    </tr>\n",
       "    <tr>\n",
       "      <th>std</th>\n",
       "      <td>NaN</td>\n",
       "      <td>2.619527e+00</td>\n",
       "      <td>NaN</td>\n",
       "    </tr>\n",
       "    <tr>\n",
       "      <th>min</th>\n",
       "      <td>NaN</td>\n",
       "      <td>1.568000e+01</td>\n",
       "      <td>NaN</td>\n",
       "    </tr>\n",
       "    <tr>\n",
       "      <th>25%</th>\n",
       "      <td>NaN</td>\n",
       "      <td>2.096000e+01</td>\n",
       "      <td>NaN</td>\n",
       "    </tr>\n",
       "    <tr>\n",
       "      <th>50%</th>\n",
       "      <td>NaN</td>\n",
       "      <td>2.253000e+01</td>\n",
       "      <td>NaN</td>\n",
       "    </tr>\n",
       "    <tr>\n",
       "      <th>75%</th>\n",
       "      <td>NaN</td>\n",
       "      <td>2.408000e+01</td>\n",
       "      <td>NaN</td>\n",
       "    </tr>\n",
       "    <tr>\n",
       "      <th>max</th>\n",
       "      <td>NaN</td>\n",
       "      <td>2.899000e+01</td>\n",
       "      <td>NaN</td>\n",
       "    </tr>\n",
       "  </tbody>\n",
       "</table>\n",
       "</div>"
      ],
      "text/plain": [
       "          sensor         value                 time\n",
       "count    1422795  1.422795e+06              1422795\n",
       "unique         1           NaN              1422795\n",
       "top     T-BMP280           NaN  2018-01-11 04:46:22\n",
       "freq     1422795           NaN                    1\n",
       "first        NaN           NaN  2017-12-22 10:52:59\n",
       "last         NaN           NaN  2018-03-13 11:42:08\n",
       "mean         NaN  2.224838e+01                  NaN\n",
       "std          NaN  2.619527e+00                  NaN\n",
       "min          NaN  1.568000e+01                  NaN\n",
       "25%          NaN  2.096000e+01                  NaN\n",
       "50%          NaN  2.253000e+01                  NaN\n",
       "75%          NaN  2.408000e+01                  NaN\n",
       "max          NaN  2.899000e+01                  NaN"
      ]
     },
     "execution_count": 6,
     "metadata": {},
     "output_type": "execute_result"
    }
   ],
   "source": [
    "ds.describe(include=\"all\")"
   ]
  },
  {
   "cell_type": "code",
   "execution_count": 7,
   "metadata": {},
   "outputs": [
    {
     "data": {
      "text/plain": [
       "20.98    3968\n",
       "22.13    3915\n",
       "22.05    3730\n",
       "21.38    3629\n",
       "21.42    3601\n",
       "22.04    3583\n",
       "20.97    3577\n",
       "22.12    3532\n",
       "21.39    3476\n",
       "21.43    3433\n",
       "23.34    3393\n",
       "23.33    3380\n",
       "22.55    3354\n",
       "22.82    3299\n",
       "22.56    3211\n",
       "22.14    3196\n",
       "22.07    3193\n",
       "22.83    3183\n",
       "22.11    3146\n",
       "22.53    3142\n",
       "22.06    3116\n",
       "23.17    3108\n",
       "22.98    3107\n",
       "22.81    3090\n",
       "21.96    3041\n",
       "22.65    3040\n",
       "22.85    3040\n",
       "21.37    3034\n",
       "22.46    3029\n",
       "23.35    3011\n",
       "         ... \n",
       "28.79       2\n",
       "28.84       2\n",
       "28.50       2\n",
       "28.48       2\n",
       "28.74       2\n",
       "28.82       2\n",
       "28.24       2\n",
       "28.89       2\n",
       "28.70       2\n",
       "28.93       2\n",
       "28.58       2\n",
       "28.81       1\n",
       "28.80       1\n",
       "28.69       1\n",
       "28.68       1\n",
       "28.47       1\n",
       "28.66       1\n",
       "28.37       1\n",
       "28.62       1\n",
       "28.78       1\n",
       "28.72       1\n",
       "28.76       1\n",
       "28.99       1\n",
       "28.86       1\n",
       "28.61       1\n",
       "28.11       1\n",
       "28.08       1\n",
       "28.10       1\n",
       "28.33       1\n",
       "28.43       1\n",
       "Name: value, Length: 1321, dtype: int64"
      ]
     },
     "execution_count": 7,
     "metadata": {},
     "output_type": "execute_result"
    }
   ],
   "source": [
    "ds[\"value\"].value_counts()"
   ]
  },
  {
   "cell_type": "code",
   "execution_count": 8,
   "metadata": {},
   "outputs": [
    {
     "data": {
      "text/plain": [
       "<matplotlib.axes._subplots.AxesSubplot at 0x7f8fd0498510>"
      ]
     },
     "execution_count": 8,
     "metadata": {},
     "output_type": "execute_result"
    },
    {
     "data": {
      "image/png": "[encoded data removed]",
      "text/plain": [
       "<matplotlib.figure.Figure at 0x7f8fd9700f90>"
      ]
     },
     "metadata": {},
     "output_type": "display_data"
    }
   ],
   "source": [
    "ds[\"value\"].plot.hist()"
   ]
  },
  {
   "cell_type": "code",
   "execution_count": null,
   "metadata": {},
   "outputs": [],
   "source": []
  }
 ],
 "metadata": {
  "kernelspec": {
   "display_name": "Python 2",
   "language": "python",
   "name": "python2"
  },
  "language_info": {
   "codemirror_mode": {
    "name": "ipython",
    "version": 2
   },
   "file_extension": ".py",
   "mimetype": "text/x-python",
   "name": "python",
   "nbconvert_exporter": "python",
   "pygments_lexer": "ipython2",
   "version": "2.7.14"
  }
 },
 "nbformat": 4,
 "nbformat_minor": 2
}
