{
 "cells": [
  {
   "cell_type": "code",
   "execution_count": 1,
   "metadata": {},
   "outputs": [],
   "source": [
    "# Original data description"
   ]
  },
  {
   "cell_type": "code",
   "execution_count": 2,
   "metadata": {},
   "outputs": [],
   "source": [
    "import pandas as pd\n",
    "import numpy as np\n",
    "import matplotlib.pyplot as plt"
   ]
  },
  {
   "cell_type": "code",
   "execution_count": 3,
   "metadata": {},
   "outputs": [],
   "source": [
    "url=\"file://localhost/home/david/Documentos/DataExploring/measures/data/raw/T-HTU21-measures.json\"\n",
    "names=[\"sensor\",\"value\",\"time\"]\n",
    "dtype={\"sensor\":str,\"value\":np.float64}\n",
    "convert_dates=[\"time\"]\n",
    "\n",
    "ds = pd.read_json(url, lines=True, dtype=dtype, convert_dates=convert_dates)\n"
   ]
  },
  {
   "cell_type": "code",
   "execution_count": 4,
   "metadata": {},
   "outputs": [
    {
     "data": {
      "text/plain": [
       "(1428383, 3)"
      ]
     },
     "execution_count": 4,
     "metadata": {},
     "output_type": "execute_result"
    }
   ],
   "source": [
    "ds.shape"
   ]
  },
  {
   "cell_type": "code",
   "execution_count": 5,
   "metadata": {},
   "outputs": [
    {
     "data": {
      "text/html": [
       "<div>\n",
       "<style scoped>\n",
       "    .dataframe tbody tr th:only-of-type {\n",
       "        vertical-align: middle;\n",
       "    }\n",
       "\n",
       "    .dataframe tbody tr th {\n",
       "        vertical-align: top;\n",
       "    }\n",
       "\n",
       "    .dataframe thead th {\n",
       "        text-align: right;\n",
       "    }\n",
       "</style>\n",
       "<table border=\"1\" class=\"dataframe\">\n",
       "  <thead>\n",
       "    <tr style=\"text-align: right;\">\n",
       "      <th></th>\n",
       "      <th>sensor</th>\n",
       "      <th>time</th>\n",
       "      <th>value</th>\n",
       "    </tr>\n",
       "  </thead>\n",
       "  <tbody>\n",
       "    <tr>\n",
       "      <th>0</th>\n",
       "      <td>T-HTU21</td>\n",
       "      <td>2017-12-20 12:17:05</td>\n",
       "      <td>25.09</td>\n",
       "    </tr>\n",
       "    <tr>\n",
       "      <th>1</th>\n",
       "      <td>T-HTU21</td>\n",
       "      <td>2017-12-20 12:17:07</td>\n",
       "      <td>25.09</td>\n",
       "    </tr>\n",
       "    <tr>\n",
       "      <th>2</th>\n",
       "      <td>T-HTU21</td>\n",
       "      <td>2017-12-20 12:17:09</td>\n",
       "      <td>25.09</td>\n",
       "    </tr>\n",
       "    <tr>\n",
       "      <th>3</th>\n",
       "      <td>T-HTU21</td>\n",
       "      <td>2017-12-20 12:17:11</td>\n",
       "      <td>25.09</td>\n",
       "    </tr>\n",
       "    <tr>\n",
       "      <th>4</th>\n",
       "      <td>T-HTU21</td>\n",
       "      <td>2017-12-20 12:17:13</td>\n",
       "      <td>25.08</td>\n",
       "    </tr>\n",
       "    <tr>\n",
       "      <th>5</th>\n",
       "      <td>T-HTU21</td>\n",
       "      <td>2017-12-20 12:17:15</td>\n",
       "      <td>25.08</td>\n",
       "    </tr>\n",
       "    <tr>\n",
       "      <th>6</th>\n",
       "      <td>T-HTU21</td>\n",
       "      <td>2017-12-20 12:17:17</td>\n",
       "      <td>25.09</td>\n",
       "    </tr>\n",
       "    <tr>\n",
       "      <th>7</th>\n",
       "      <td>T-HTU21</td>\n",
       "      <td>2017-12-20 12:17:19</td>\n",
       "      <td>25.09</td>\n",
       "    </tr>\n",
       "    <tr>\n",
       "      <th>8</th>\n",
       "      <td>T-HTU21</td>\n",
       "      <td>2017-12-20 12:17:21</td>\n",
       "      <td>25.09</td>\n",
       "    </tr>\n",
       "    <tr>\n",
       "      <th>9</th>\n",
       "      <td>T-HTU21</td>\n",
       "      <td>2017-12-20 12:17:23</td>\n",
       "      <td>25.08</td>\n",
       "    </tr>\n",
       "  </tbody>\n",
       "</table>\n",
       "</div>"
      ],
      "text/plain": [
       "    sensor                time  value\n",
       "0  T-HTU21 2017-12-20 12:17:05  25.09\n",
       "1  T-HTU21 2017-12-20 12:17:07  25.09\n",
       "2  T-HTU21 2017-12-20 12:17:09  25.09\n",
       "3  T-HTU21 2017-12-20 12:17:11  25.09\n",
       "4  T-HTU21 2017-12-20 12:17:13  25.08\n",
       "5  T-HTU21 2017-12-20 12:17:15  25.08\n",
       "6  T-HTU21 2017-12-20 12:17:17  25.09\n",
       "7  T-HTU21 2017-12-20 12:17:19  25.09\n",
       "8  T-HTU21 2017-12-20 12:17:21  25.09\n",
       "9  T-HTU21 2017-12-20 12:17:23  25.08"
      ]
     },
     "execution_count": 5,
     "metadata": {},
     "output_type": "execute_result"
    }
   ],
   "source": [
    "ds.head(10)"
   ]
  },
  {
   "cell_type": "code",
   "execution_count": 6,
   "metadata": {},
   "outputs": [
    {
     "data": {
      "text/html": [
       "<div>\n",
       "<style scoped>\n",
       "    .dataframe tbody tr th:only-of-type {\n",
       "        vertical-align: middle;\n",
       "    }\n",
       "\n",
       "    .dataframe tbody tr th {\n",
       "        vertical-align: top;\n",
       "    }\n",
       "\n",
       "    .dataframe thead th {\n",
       "        text-align: right;\n",
       "    }\n",
       "</style>\n",
       "<table border=\"1\" class=\"dataframe\">\n",
       "  <thead>\n",
       "    <tr style=\"text-align: right;\">\n",
       "      <th></th>\n",
       "      <th>sensor</th>\n",
       "      <th>time</th>\n",
       "      <th>value</th>\n",
       "    </tr>\n",
       "  </thead>\n",
       "  <tbody>\n",
       "    <tr>\n",
       "      <th>count</th>\n",
       "      <td>1428383</td>\n",
       "      <td>1428383</td>\n",
       "      <td>1.428383e+06</td>\n",
       "    </tr>\n",
       "    <tr>\n",
       "      <th>unique</th>\n",
       "      <td>1</td>\n",
       "      <td>1428383</td>\n",
       "      <td>NaN</td>\n",
       "    </tr>\n",
       "    <tr>\n",
       "      <th>top</th>\n",
       "      <td>T-HTU21</td>\n",
       "      <td>2018-01-18 04:08:41</td>\n",
       "      <td>NaN</td>\n",
       "    </tr>\n",
       "    <tr>\n",
       "      <th>freq</th>\n",
       "      <td>1428383</td>\n",
       "      <td>1</td>\n",
       "      <td>NaN</td>\n",
       "    </tr>\n",
       "    <tr>\n",
       "      <th>first</th>\n",
       "      <td>NaN</td>\n",
       "      <td>2017-12-20 12:17:05</td>\n",
       "      <td>NaN</td>\n",
       "    </tr>\n",
       "    <tr>\n",
       "      <th>last</th>\n",
       "      <td>NaN</td>\n",
       "      <td>2018-03-13 11:42:11</td>\n",
       "      <td>NaN</td>\n",
       "    </tr>\n",
       "    <tr>\n",
       "      <th>mean</th>\n",
       "      <td>NaN</td>\n",
       "      <td>NaN</td>\n",
       "      <td>2.153985e+01</td>\n",
       "    </tr>\n",
       "    <tr>\n",
       "      <th>std</th>\n",
       "      <td>NaN</td>\n",
       "      <td>NaN</td>\n",
       "      <td>2.573268e+00</td>\n",
       "    </tr>\n",
       "    <tr>\n",
       "      <th>min</th>\n",
       "      <td>NaN</td>\n",
       "      <td>NaN</td>\n",
       "      <td>1.508000e+01</td>\n",
       "    </tr>\n",
       "    <tr>\n",
       "      <th>25%</th>\n",
       "      <td>NaN</td>\n",
       "      <td>NaN</td>\n",
       "      <td>2.026000e+01</td>\n",
       "    </tr>\n",
       "    <tr>\n",
       "      <th>50%</th>\n",
       "      <td>NaN</td>\n",
       "      <td>NaN</td>\n",
       "      <td>2.181000e+01</td>\n",
       "    </tr>\n",
       "    <tr>\n",
       "      <th>75%</th>\n",
       "      <td>NaN</td>\n",
       "      <td>NaN</td>\n",
       "      <td>2.334000e+01</td>\n",
       "    </tr>\n",
       "    <tr>\n",
       "      <th>max</th>\n",
       "      <td>NaN</td>\n",
       "      <td>NaN</td>\n",
       "      <td>2.821000e+01</td>\n",
       "    </tr>\n",
       "  </tbody>\n",
       "</table>\n",
       "</div>"
      ],
      "text/plain": [
       "         sensor                 time         value\n",
       "count   1428383              1428383  1.428383e+06\n",
       "unique        1              1428383           NaN\n",
       "top     T-HTU21  2018-01-18 04:08:41           NaN\n",
       "freq    1428383                    1           NaN\n",
       "first       NaN  2017-12-20 12:17:05           NaN\n",
       "last        NaN  2018-03-13 11:42:11           NaN\n",
       "mean        NaN                  NaN  2.153985e+01\n",
       "std         NaN                  NaN  2.573268e+00\n",
       "min         NaN                  NaN  1.508000e+01\n",
       "25%         NaN                  NaN  2.026000e+01\n",
       "50%         NaN                  NaN  2.181000e+01\n",
       "75%         NaN                  NaN  2.334000e+01\n",
       "max         NaN                  NaN  2.821000e+01"
      ]
     },
     "execution_count": 6,
     "metadata": {},
     "output_type": "execute_result"
    }
   ],
   "source": [
    "ds.describe(include=\"all\")"
   ]
  },
  {
   "cell_type": "code",
   "execution_count": 7,
   "metadata": {},
   "outputs": [
    {
     "data": {
      "text/plain": [
       "21.31    3982\n",
       "21.39    3961\n",
       "20.73    3862\n",
       "21.40    3753\n",
       "21.30    3729\n",
       "20.68    3609\n",
       "21.32    3578\n",
       "20.75    3569\n",
       "21.38    3456\n",
       "22.09    3401\n",
       "21.82    3392\n",
       "20.72    3376\n",
       "20.69    3366\n",
       "22.10    3324\n",
       "22.08    3315\n",
       "22.25    3310\n",
       "22.64    3264\n",
       "20.28    3259\n",
       "20.67    3236\n",
       "20.71    3236\n",
       "21.41    3201\n",
       "22.65    3193\n",
       "21.37    3186\n",
       "21.81    3169\n",
       "22.48    3130\n",
       "21.70    3124\n",
       "21.97    3119\n",
       "22.47    3109\n",
       "22.26    3103\n",
       "20.76    3093\n",
       "         ... \n",
       "27.70       3\n",
       "27.83       3\n",
       "27.81       3\n",
       "27.27       3\n",
       "27.73       3\n",
       "27.51       3\n",
       "27.80       2\n",
       "27.96       2\n",
       "28.13       2\n",
       "27.93       2\n",
       "28.20       2\n",
       "27.46       2\n",
       "27.90       2\n",
       "27.94       2\n",
       "27.91       2\n",
       "27.77       2\n",
       "27.41       2\n",
       "27.58       2\n",
       "27.28       2\n",
       "27.52       2\n",
       "28.09       2\n",
       "27.42       1\n",
       "27.34       1\n",
       "28.21       1\n",
       "27.60       1\n",
       "27.74       1\n",
       "28.00       1\n",
       "27.97       1\n",
       "28.16       1\n",
       "27.98       1\n",
       "Name: value, Length: 1213, dtype: int64"
      ]
     },
     "execution_count": 7,
     "metadata": {},
     "output_type": "execute_result"
    }
   ],
   "source": [
    "ds[\"value\"].value_counts()"
   ]
  },
  {
   "cell_type": "code",
   "execution_count": 8,
   "metadata": {},
   "outputs": [
    {
     "data": {
      "text/plain": [
       "<matplotlib.axes._subplots.AxesSubplot at 0x7f9a96392590>"
      ]
     },
     "execution_count": 8,
     "metadata": {},
     "output_type": "execute_result"
    },
    {
     "data": {
      "image/png": "[encoded data removed]",
      "text/plain": [
       "<matplotlib.figure.Figure at 0x7f9a4937e210>"
      ]
     },
     "metadata": {},
     "output_type": "display_data"
    }
   ],
   "source": [
    "ds[\"value\"].plot.hist()"
   ]
  },
  {
   "cell_type": "code",
   "execution_count": null,
   "metadata": {},
   "outputs": [],
   "source": []
  }
 ],
 "metadata": {
  "kernelspec": {
   "display_name": "Python 2",
   "language": "python",
   "name": "python2"
  },
  "language_info": {
   "codemirror_mode": {
    "name": "ipython",
    "version": 2
   },
   "file_extension": ".py",
   "mimetype": "text/x-python",
   "name": "python",
   "nbconvert_exporter": "python",
   "pygments_lexer": "ipython2",
   "version": "2.7.14"
  }
 },
 "nbformat": 4,
 "nbformat_minor": 2
}
