{
 "cells": [
  {
   "cell_type": "code",
   "execution_count": 1,
   "metadata": {},
   "outputs": [],
   "source": [
    "# Original data description"
   ]
  },
  {
   "cell_type": "code",
   "execution_count": 1,
   "metadata": {},
   "outputs": [],
   "source": [
    "import pandas as pd\n",
    "import numpy as np\n",
    "import matplotlib.pyplot as plt"
   ]
  },
  {
   "cell_type": "code",
   "execution_count": 2,
   "metadata": {},
   "outputs": [],
   "source": [
    "url=\"../data/raw/H-HTU21-measures.csv\"\n",
    "names=[\"sensor\",\"value\",\"time\"]\n",
    "dtype={\"sensor\":str,\"value\":np.float64}\n",
    "parse_dates=[\"time\"]\n",
    "ds = pd.read_csv(url, dtype=dtype, parse_dates=parse_dates)"
   ]
  },
  {
   "cell_type": "code",
   "execution_count": 3,
   "metadata": {},
   "outputs": [
    {
     "data": {
      "text/plain": [
       "(1428377, 3)"
      ]
     },
     "execution_count": 3,
     "metadata": {},
     "output_type": "execute_result"
    }
   ],
   "source": [
    "ds.shape"
   ]
  },
  {
   "cell_type": "code",
   "execution_count": 4,
   "metadata": {},
   "outputs": [
    {
     "data": {
      "text/html": [
       "<div>\n",
       "<style scoped>\n",
       "    .dataframe tbody tr th:only-of-type {\n",
       "        vertical-align: middle;\n",
       "    }\n",
       "\n",
       "    .dataframe tbody tr th {\n",
       "        vertical-align: top;\n",
       "    }\n",
       "\n",
       "    .dataframe thead th {\n",
       "        text-align: right;\n",
       "    }\n",
       "</style>\n",
       "<table border=\"1\" class=\"dataframe\">\n",
       "  <thead>\n",
       "    <tr style=\"text-align: right;\">\n",
       "      <th></th>\n",
       "      <th>sensor</th>\n",
       "      <th>value</th>\n",
       "      <th>time</th>\n",
       "    </tr>\n",
       "  </thead>\n",
       "  <tbody>\n",
       "    <tr>\n",
       "      <th>0</th>\n",
       "      <td>H-HTU21</td>\n",
       "      <td>28.3</td>\n",
       "      <td>2017-12-20 12:17:05</td>\n",
       "    </tr>\n",
       "    <tr>\n",
       "      <th>1</th>\n",
       "      <td>H-HTU21</td>\n",
       "      <td>28.2</td>\n",
       "      <td>2017-12-20 12:17:07</td>\n",
       "    </tr>\n",
       "    <tr>\n",
       "      <th>2</th>\n",
       "      <td>H-HTU21</td>\n",
       "      <td>28.1</td>\n",
       "      <td>2017-12-20 12:17:09</td>\n",
       "    </tr>\n",
       "    <tr>\n",
       "      <th>3</th>\n",
       "      <td>H-HTU21</td>\n",
       "      <td>28.2</td>\n",
       "      <td>2017-12-20 12:17:11</td>\n",
       "    </tr>\n",
       "    <tr>\n",
       "      <th>4</th>\n",
       "      <td>H-HTU21</td>\n",
       "      <td>28.2</td>\n",
       "      <td>2017-12-20 12:17:13</td>\n",
       "    </tr>\n",
       "    <tr>\n",
       "      <th>5</th>\n",
       "      <td>H-HTU21</td>\n",
       "      <td>28.2</td>\n",
       "      <td>2017-12-20 12:17:15</td>\n",
       "    </tr>\n",
       "    <tr>\n",
       "      <th>6</th>\n",
       "      <td>H-HTU21</td>\n",
       "      <td>28.1</td>\n",
       "      <td>2017-12-20 12:17:17</td>\n",
       "    </tr>\n",
       "    <tr>\n",
       "      <th>7</th>\n",
       "      <td>H-HTU21</td>\n",
       "      <td>28.1</td>\n",
       "      <td>2017-12-20 12:17:19</td>\n",
       "    </tr>\n",
       "    <tr>\n",
       "      <th>8</th>\n",
       "      <td>H-HTU21</td>\n",
       "      <td>28.1</td>\n",
       "      <td>2017-12-20 12:17:21</td>\n",
       "    </tr>\n",
       "    <tr>\n",
       "      <th>9</th>\n",
       "      <td>H-HTU21</td>\n",
       "      <td>28.2</td>\n",
       "      <td>2017-12-20 12:17:23</td>\n",
       "    </tr>\n",
       "  </tbody>\n",
       "</table>\n",
       "</div>"
      ],
      "text/plain": [
       "    sensor  value                time\n",
       "0  H-HTU21   28.3 2017-12-20 12:17:05\n",
       "1  H-HTU21   28.2 2017-12-20 12:17:07\n",
       "2  H-HTU21   28.1 2017-12-20 12:17:09\n",
       "3  H-HTU21   28.2 2017-12-20 12:17:11\n",
       "4  H-HTU21   28.2 2017-12-20 12:17:13\n",
       "5  H-HTU21   28.2 2017-12-20 12:17:15\n",
       "6  H-HTU21   28.1 2017-12-20 12:17:17\n",
       "7  H-HTU21   28.1 2017-12-20 12:17:19\n",
       "8  H-HTU21   28.1 2017-12-20 12:17:21\n",
       "9  H-HTU21   28.2 2017-12-20 12:17:23"
      ]
     },
     "execution_count": 4,
     "metadata": {},
     "output_type": "execute_result"
    }
   ],
   "source": [
    "ds.head(10)"
   ]
  },
  {
   "cell_type": "code",
   "execution_count": 5,
   "metadata": {},
   "outputs": [
    {
     "data": {
      "text/html": [
       "<div>\n",
       "<style scoped>\n",
       "    .dataframe tbody tr th:only-of-type {\n",
       "        vertical-align: middle;\n",
       "    }\n",
       "\n",
       "    .dataframe tbody tr th {\n",
       "        vertical-align: top;\n",
       "    }\n",
       "\n",
       "    .dataframe thead th {\n",
       "        text-align: right;\n",
       "    }\n",
       "</style>\n",
       "<table border=\"1\" class=\"dataframe\">\n",
       "  <thead>\n",
       "    <tr style=\"text-align: right;\">\n",
       "      <th></th>\n",
       "      <th>sensor</th>\n",
       "      <th>value</th>\n",
       "      <th>time</th>\n",
       "    </tr>\n",
       "  </thead>\n",
       "  <tbody>\n",
       "    <tr>\n",
       "      <th>count</th>\n",
       "      <td>1428377</td>\n",
       "      <td>1.428377e+06</td>\n",
       "      <td>1428377</td>\n",
       "    </tr>\n",
       "    <tr>\n",
       "      <th>unique</th>\n",
       "      <td>1</td>\n",
       "      <td>NaN</td>\n",
       "      <td>1428377</td>\n",
       "    </tr>\n",
       "    <tr>\n",
       "      <th>top</th>\n",
       "      <td>H-HTU21</td>\n",
       "      <td>NaN</td>\n",
       "      <td>2018-01-18 04:08:41</td>\n",
       "    </tr>\n",
       "    <tr>\n",
       "      <th>freq</th>\n",
       "      <td>1428377</td>\n",
       "      <td>NaN</td>\n",
       "      <td>1</td>\n",
       "    </tr>\n",
       "    <tr>\n",
       "      <th>first</th>\n",
       "      <td>NaN</td>\n",
       "      <td>NaN</td>\n",
       "      <td>2017-12-20 12:17:05</td>\n",
       "    </tr>\n",
       "    <tr>\n",
       "      <th>last</th>\n",
       "      <td>NaN</td>\n",
       "      <td>NaN</td>\n",
       "      <td>2018-03-13 11:42:12</td>\n",
       "    </tr>\n",
       "    <tr>\n",
       "      <th>mean</th>\n",
       "      <td>NaN</td>\n",
       "      <td>3.434038e+01</td>\n",
       "      <td>NaN</td>\n",
       "    </tr>\n",
       "    <tr>\n",
       "      <th>std</th>\n",
       "      <td>NaN</td>\n",
       "      <td>4.954117e+00</td>\n",
       "      <td>NaN</td>\n",
       "    </tr>\n",
       "    <tr>\n",
       "      <th>min</th>\n",
       "      <td>NaN</td>\n",
       "      <td>1.970000e+01</td>\n",
       "      <td>NaN</td>\n",
       "    </tr>\n",
       "    <tr>\n",
       "      <th>25%</th>\n",
       "      <td>NaN</td>\n",
       "      <td>3.040000e+01</td>\n",
       "      <td>NaN</td>\n",
       "    </tr>\n",
       "    <tr>\n",
       "      <th>50%</th>\n",
       "      <td>NaN</td>\n",
       "      <td>3.440000e+01</td>\n",
       "      <td>NaN</td>\n",
       "    </tr>\n",
       "    <tr>\n",
       "      <th>75%</th>\n",
       "      <td>NaN</td>\n",
       "      <td>3.730000e+01</td>\n",
       "      <td>NaN</td>\n",
       "    </tr>\n",
       "    <tr>\n",
       "      <th>max</th>\n",
       "      <td>NaN</td>\n",
       "      <td>5.630000e+01</td>\n",
       "      <td>NaN</td>\n",
       "    </tr>\n",
       "  </tbody>\n",
       "</table>\n",
       "</div>"
      ],
      "text/plain": [
       "         sensor         value                 time\n",
       "count   1428377  1.428377e+06              1428377\n",
       "unique        1           NaN              1428377\n",
       "top     H-HTU21           NaN  2018-01-18 04:08:41\n",
       "freq    1428377           NaN                    1\n",
       "first       NaN           NaN  2017-12-20 12:17:05\n",
       "last        NaN           NaN  2018-03-13 11:42:12\n",
       "mean        NaN  3.434038e+01                  NaN\n",
       "std         NaN  4.954117e+00                  NaN\n",
       "min         NaN  1.970000e+01                  NaN\n",
       "25%         NaN  3.040000e+01                  NaN\n",
       "50%         NaN  3.440000e+01                  NaN\n",
       "75%         NaN  3.730000e+01                  NaN\n",
       "max         NaN  5.630000e+01                  NaN"
      ]
     },
     "execution_count": 5,
     "metadata": {},
     "output_type": "execute_result"
    }
   ],
   "source": [
    "ds.describe(include=\"all\")"
   ]
  },
  {
   "cell_type": "code",
   "execution_count": 6,
   "metadata": {},
   "outputs": [
    {
     "data": {
      "text/plain": [
       "34.3    24288\n",
       "34.4    23130\n",
       "34.2    23112\n",
       "34.5    21235\n",
       "34.6    17294\n",
       "34.1    16142\n",
       "36.2    15762\n",
       "36.5    15376\n",
       "34.7    15086\n",
       "36.4    14544\n",
       "36.1    14189\n",
       "34.8    14010\n",
       "37.3    13906\n",
       "34.0    13619\n",
       "37.4    13179\n",
       "36.3    13023\n",
       "35.1    12932\n",
       "36.0    12743\n",
       "33.0    12430\n",
       "35.9    12240\n",
       "36.9    12160\n",
       "29.6    12083\n",
       "35.6    11975\n",
       "35.2    11908\n",
       "29.9    11907\n",
       "33.4    11690\n",
       "29.5    11119\n",
       "33.9    11065\n",
       "37.2    10950\n",
       "29.4    10793\n",
       "        ...  \n",
       "46.1      144\n",
       "21.1      139\n",
       "21.0      123\n",
       "47.1      116\n",
       "20.5      100\n",
       "47.2       98\n",
       "20.3       92\n",
       "20.6       91\n",
       "20.7       88\n",
       "20.2       61\n",
       "20.4       59\n",
       "47.0       46\n",
       "19.9       42\n",
       "46.9       38\n",
       "20.1       34\n",
       "19.8       27\n",
       "20.0       24\n",
       "47.4       17\n",
       "19.7       14\n",
       "47.3       11\n",
       "47.5        4\n",
       "47.7        2\n",
       "53.9        1\n",
       "53.7        1\n",
       "53.1        1\n",
       "56.3        1\n",
       "51.9        1\n",
       "50.4        1\n",
       "50.8        1\n",
       "49.9        1\n",
       "Name: value, Length: 288, dtype: int64"
      ]
     },
     "execution_count": 6,
     "metadata": {},
     "output_type": "execute_result"
    }
   ],
   "source": [
    "ds[\"value\"].value_counts()"
   ]
  },
  {
   "cell_type": "code",
   "execution_count": 10,
   "metadata": {},
   "outputs": [
    {
     "data": {
      "text/plain": [
       "<matplotlib.axes._subplots.AxesSubplot at 0x7f03b57104d0>"
      ]
     },
     "execution_count": 10,
     "metadata": {},
     "output_type": "execute_result"
    },
    {
     "data": {
      "image/png": "[encoded data removed]",
      "text/plain": [
       "<matplotlib.figure.Figure at 0x7f03b5763e50>"
      ]
     },
     "metadata": {},
     "output_type": "display_data"
    }
   ],
   "source": [
    "ds[\"value\"].plot.hist()"
   ]
  },
  {
   "cell_type": "code",
   "execution_count": null,
   "metadata": {},
   "outputs": [],
   "source": []
  }
 ],
 "metadata": {
  "kernelspec": {
   "display_name": "Python 2",
   "language": "python",
   "name": "python2"
  },
  "language_info": {
   "codemirror_mode": {
    "name": "ipython",
    "version": 2
   },
   "file_extension": ".py",
   "mimetype": "text/x-python",
   "name": "python",
   "nbconvert_exporter": "python",
   "pygments_lexer": "ipython2",
   "version": "2.7.14"
  }
 },
 "nbformat": 4,
 "nbformat_minor": 2
}
