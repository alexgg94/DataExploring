{
 "cells": [
  {
   "cell_type": "code",
   "execution_count": 1,
   "metadata": {},
   "outputs": [],
   "source": [
    "import pandas as pd\n",
    "import matplotlib.pyplot as plt\n",
    "import numpy as np"
   ]
  },
  {
   "cell_type": "code",
   "execution_count": 2,
   "metadata": {},
   "outputs": [],
   "source": [
    "url=\"../data/processed/sorted_output.csv\"\n",
    "parse_dates=[\"time\"]\n",
    "ds = pd.read_csv(url, parse_dates=parse_dates)"
   ]
  },
  {
   "cell_type": "code",
   "execution_count": 3,
   "metadata": {},
   "outputs": [
    {
     "data": {
      "text/plain": [
       "(6038706, 5)"
      ]
     },
     "execution_count": 3,
     "metadata": {},
     "output_type": "execute_result"
    }
   ],
   "source": [
    "ds.shape"
   ]
  },
  {
   "cell_type": "code",
   "execution_count": 4,
   "metadata": {},
   "outputs": [
    {
     "data": {
      "text/plain": [
       "DHT22     1522253\n",
       "HTU21     1510105\n",
       "BMP280    1504469\n",
       "DHT11     1501874\n",
       "DM280           5\n",
       "Name: sensor, dtype: int64"
      ]
     },
     "execution_count": 4,
     "metadata": {},
     "output_type": "execute_result"
    }
   ],
   "source": [
    "ds[\"sensor\"].value_counts()"
   ]
  },
  {
   "cell_type": "code",
   "execution_count": 5,
   "metadata": {},
   "outputs": [
    {
     "data": {
      "text/html": [
       "<div>\n",
       "<style scoped>\n",
       "    .dataframe tbody tr th:only-of-type {\n",
       "        vertical-align: middle;\n",
       "    }\n",
       "\n",
       "    .dataframe tbody tr th {\n",
       "        vertical-align: top;\n",
       "    }\n",
       "\n",
       "    .dataframe thead th {\n",
       "        text-align: right;\n",
       "    }\n",
       "</style>\n",
       "<table border=\"1\" class=\"dataframe\">\n",
       "  <thead>\n",
       "    <tr style=\"text-align: right;\">\n",
       "      <th></th>\n",
       "      <th>time</th>\n",
       "      <th>sensor</th>\n",
       "      <th>H</th>\n",
       "      <th>P</th>\n",
       "      <th>T</th>\n",
       "    </tr>\n",
       "  </thead>\n",
       "  <tbody>\n",
       "    <tr>\n",
       "      <th>3724077</th>\n",
       "      <td>2018-02-10 09:54:07</td>\n",
       "      <td>BMP280</td>\n",
       "      <td>NaN</td>\n",
       "      <td>1019.27</td>\n",
       "      <td>21.30</td>\n",
       "    </tr>\n",
       "    <tr>\n",
       "      <th>4216002</th>\n",
       "      <td>2018-02-16 08:07:15</td>\n",
       "      <td>BMP280</td>\n",
       "      <td>NaN</td>\n",
       "      <td>1024.47</td>\n",
       "      <td>23.08</td>\n",
       "    </tr>\n",
       "    <tr>\n",
       "      <th>4109570</th>\n",
       "      <td>2018-02-14 23:20:17</td>\n",
       "      <td>BMP280</td>\n",
       "      <td>NaN</td>\n",
       "      <td>1018.52</td>\n",
       "      <td>22.89</td>\n",
       "    </tr>\n",
       "    <tr>\n",
       "      <th>5918677</th>\n",
       "      <td>2018-03-12 02:24:11</td>\n",
       "      <td>DHT22</td>\n",
       "      <td>1.0</td>\n",
       "      <td>NaN</td>\n",
       "      <td>24.50</td>\n",
       "    </tr>\n",
       "    <tr>\n",
       "      <th>3053371</th>\n",
       "      <td>2018-02-02 17:28:07</td>\n",
       "      <td>DHT11</td>\n",
       "      <td>35.0</td>\n",
       "      <td>NaN</td>\n",
       "      <td>NaN</td>\n",
       "    </tr>\n",
       "    <tr>\n",
       "      <th>3244462</th>\n",
       "      <td>2018-02-04 22:30:11</td>\n",
       "      <td>DHT11</td>\n",
       "      <td>36.0</td>\n",
       "      <td>NaN</td>\n",
       "      <td>18.00</td>\n",
       "    </tr>\n",
       "    <tr>\n",
       "      <th>5576049</th>\n",
       "      <td>2018-03-08 04:45:17</td>\n",
       "      <td>HTU21</td>\n",
       "      <td>29.0</td>\n",
       "      <td>NaN</td>\n",
       "      <td>22.30</td>\n",
       "    </tr>\n",
       "    <tr>\n",
       "      <th>5523255</th>\n",
       "      <td>2018-03-07 14:13:58</td>\n",
       "      <td>HTU21</td>\n",
       "      <td>26.1</td>\n",
       "      <td>NaN</td>\n",
       "      <td>24.79</td>\n",
       "    </tr>\n",
       "    <tr>\n",
       "      <th>1165546</th>\n",
       "      <td>2018-01-10 10:01:12</td>\n",
       "      <td>DHT22</td>\n",
       "      <td>1.0</td>\n",
       "      <td>NaN</td>\n",
       "      <td>24.20</td>\n",
       "    </tr>\n",
       "    <tr>\n",
       "      <th>5771686</th>\n",
       "      <td>2018-03-10 10:13:21</td>\n",
       "      <td>DHT22</td>\n",
       "      <td>1.0</td>\n",
       "      <td>NaN</td>\n",
       "      <td>25.70</td>\n",
       "    </tr>\n",
       "  </tbody>\n",
       "</table>\n",
       "</div>"
      ],
      "text/plain": [
       "                       time  sensor     H        P      T\n",
       "3724077 2018-02-10 09:54:07  BMP280   NaN  1019.27  21.30\n",
       "4216002 2018-02-16 08:07:15  BMP280   NaN  1024.47  23.08\n",
       "4109570 2018-02-14 23:20:17  BMP280   NaN  1018.52  22.89\n",
       "5918677 2018-03-12 02:24:11   DHT22   1.0      NaN  24.50\n",
       "3053371 2018-02-02 17:28:07   DHT11  35.0      NaN    NaN\n",
       "3244462 2018-02-04 22:30:11   DHT11  36.0      NaN  18.00\n",
       "5576049 2018-03-08 04:45:17   HTU21  29.0      NaN  22.30\n",
       "5523255 2018-03-07 14:13:58   HTU21  26.1      NaN  24.79\n",
       "1165546 2018-01-10 10:01:12   DHT22   1.0      NaN  24.20\n",
       "5771686 2018-03-10 10:13:21   DHT22   1.0      NaN  25.70"
      ]
     },
     "execution_count": 5,
     "metadata": {},
     "output_type": "execute_result"
    }
   ],
   "source": [
    "ds.sample(10)"
   ]
  },
  {
   "cell_type": "code",
   "execution_count": 6,
   "metadata": {},
   "outputs": [
    {
     "data": {
      "text/html": [
       "<div>\n",
       "<style scoped>\n",
       "    .dataframe tbody tr th:only-of-type {\n",
       "        vertical-align: middle;\n",
       "    }\n",
       "\n",
       "    .dataframe tbody tr th {\n",
       "        vertical-align: top;\n",
       "    }\n",
       "\n",
       "    .dataframe thead th {\n",
       "        text-align: right;\n",
       "    }\n",
       "</style>\n",
       "<table border=\"1\" class=\"dataframe\">\n",
       "  <thead>\n",
       "    <tr style=\"text-align: right;\">\n",
       "      <th></th>\n",
       "      <th>time</th>\n",
       "      <th>sensor</th>\n",
       "      <th>H</th>\n",
       "      <th>P</th>\n",
       "      <th>T</th>\n",
       "    </tr>\n",
       "  </thead>\n",
       "  <tbody>\n",
       "    <tr>\n",
       "      <th>count</th>\n",
       "      <td>6038706</td>\n",
       "      <td>6038706</td>\n",
       "      <td>4.288839e+06</td>\n",
       "      <td>1.422792e+06</td>\n",
       "      <td>5.711640e+06</td>\n",
       "    </tr>\n",
       "    <tr>\n",
       "      <th>unique</th>\n",
       "      <td>5943769</td>\n",
       "      <td>5</td>\n",
       "      <td>NaN</td>\n",
       "      <td>NaN</td>\n",
       "      <td>NaN</td>\n",
       "    </tr>\n",
       "    <tr>\n",
       "      <th>top</th>\n",
       "      <td>2018-03-13 11:35:48</td>\n",
       "      <td>DHT22</td>\n",
       "      <td>NaN</td>\n",
       "      <td>NaN</td>\n",
       "      <td>NaN</td>\n",
       "    </tr>\n",
       "    <tr>\n",
       "      <th>freq</th>\n",
       "      <td>4</td>\n",
       "      <td>1522253</td>\n",
       "      <td>NaN</td>\n",
       "      <td>NaN</td>\n",
       "      <td>NaN</td>\n",
       "    </tr>\n",
       "    <tr>\n",
       "      <th>first</th>\n",
       "      <td>2017-12-19 14:07:18</td>\n",
       "      <td>NaN</td>\n",
       "      <td>NaN</td>\n",
       "      <td>NaN</td>\n",
       "      <td>NaN</td>\n",
       "    </tr>\n",
       "    <tr>\n",
       "      <th>last</th>\n",
       "      <td>2018-03-13 11:42:12</td>\n",
       "      <td>NaN</td>\n",
       "      <td>NaN</td>\n",
       "      <td>NaN</td>\n",
       "      <td>NaN</td>\n",
       "    </tr>\n",
       "    <tr>\n",
       "      <th>mean</th>\n",
       "      <td>NaN</td>\n",
       "      <td>NaN</td>\n",
       "      <td>2.336465e+01</td>\n",
       "      <td>1.015690e+03</td>\n",
       "      <td>2.201185e+01</td>\n",
       "    </tr>\n",
       "    <tr>\n",
       "      <th>std</th>\n",
       "      <td>NaN</td>\n",
       "      <td>NaN</td>\n",
       "      <td>1.617257e+01</td>\n",
       "      <td>1.011069e+01</td>\n",
       "      <td>2.631197e+00</td>\n",
       "    </tr>\n",
       "    <tr>\n",
       "      <th>min</th>\n",
       "      <td>NaN</td>\n",
       "      <td>NaN</td>\n",
       "      <td>1.000000e+00</td>\n",
       "      <td>9.856200e+02</td>\n",
       "      <td>1.500000e+01</td>\n",
       "    </tr>\n",
       "    <tr>\n",
       "      <th>25%</th>\n",
       "      <td>NaN</td>\n",
       "      <td>NaN</td>\n",
       "      <td>1.000000e+00</td>\n",
       "      <td>1.008670e+03</td>\n",
       "      <td>2.063000e+01</td>\n",
       "    </tr>\n",
       "    <tr>\n",
       "      <th>50%</th>\n",
       "      <td>NaN</td>\n",
       "      <td>NaN</td>\n",
       "      <td>3.360000e+01</td>\n",
       "      <td>1.016970e+03</td>\n",
       "      <td>2.211000e+01</td>\n",
       "    </tr>\n",
       "    <tr>\n",
       "      <th>75%</th>\n",
       "      <td>NaN</td>\n",
       "      <td>NaN</td>\n",
       "      <td>3.500000e+01</td>\n",
       "      <td>1.022570e+03</td>\n",
       "      <td>2.393000e+01</td>\n",
       "    </tr>\n",
       "    <tr>\n",
       "      <th>max</th>\n",
       "      <td>NaN</td>\n",
       "      <td>NaN</td>\n",
       "      <td>9.990000e+01</td>\n",
       "      <td>1.040000e+03</td>\n",
       "      <td>2.980000e+01</td>\n",
       "    </tr>\n",
       "  </tbody>\n",
       "</table>\n",
       "</div>"
      ],
      "text/plain": [
       "                       time   sensor             H             P             T\n",
       "count               6038706  6038706  4.288839e+06  1.422792e+06  5.711640e+06\n",
       "unique              5943769        5           NaN           NaN           NaN\n",
       "top     2018-03-13 11:35:48    DHT22           NaN           NaN           NaN\n",
       "freq                      4  1522253           NaN           NaN           NaN\n",
       "first   2017-12-19 14:07:18      NaN           NaN           NaN           NaN\n",
       "last    2018-03-13 11:42:12      NaN           NaN           NaN           NaN\n",
       "mean                    NaN      NaN  2.336465e+01  1.015690e+03  2.201185e+01\n",
       "std                     NaN      NaN  1.617257e+01  1.011069e+01  2.631197e+00\n",
       "min                     NaN      NaN  1.000000e+00  9.856200e+02  1.500000e+01\n",
       "25%                     NaN      NaN  1.000000e+00  1.008670e+03  2.063000e+01\n",
       "50%                     NaN      NaN  3.360000e+01  1.016970e+03  2.211000e+01\n",
       "75%                     NaN      NaN  3.500000e+01  1.022570e+03  2.393000e+01\n",
       "max                     NaN      NaN  9.990000e+01  1.040000e+03  2.980000e+01"
      ]
     },
     "execution_count": 6,
     "metadata": {},
     "output_type": "execute_result"
    }
   ],
   "source": [
    "ds.describe(include=\"all\")"
   ]
  },
  {
   "cell_type": "code",
   "execution_count": 7,
   "metadata": {},
   "outputs": [],
   "source": [
    "# Analizing only Humidity information\n",
    "dsh = ds[pd.notnull(ds[\"H\"])]\n",
    "dsh = dsh[dsh[\"H\"] > 1]\n",
    "dsh = dsh[dsh[\"H\"]<99.9]\n",
    "dsh = dsh[dsh[\"time\"]>\"2017-12-22\"]\n",
    "dsh = dsh[[\"time\",\"sensor\",\"H\"]]\n",
    "dsh[\"time\"] = dsh[\"time\"].values.astype('<M8[m]')\n",
    "dsh = dsh[dsh[\"sensor\"]==\"HTU21\"]"
   ]
  },
  {
   "cell_type": "code",
   "execution_count": 8,
   "metadata": {},
   "outputs": [
    {
     "data": {
      "text/plain": [
       "(1428193, 3)"
      ]
     },
     "execution_count": 8,
     "metadata": {},
     "output_type": "execute_result"
    }
   ],
   "source": [
    "dsh.shape"
   ]
  },
  {
   "cell_type": "code",
   "execution_count": 9,
   "metadata": {
    "scrolled": true
   },
   "outputs": [
    {
     "data": {
      "text/plain": [
       "HTU21    1428193\n",
       "Name: sensor, dtype: int64"
      ]
     },
     "execution_count": 9,
     "metadata": {},
     "output_type": "execute_result"
    }
   ],
   "source": [
    "dsh[\"sensor\"].value_counts()"
   ]
  },
  {
   "cell_type": "code",
   "execution_count": 10,
   "metadata": {
    "scrolled": true
   },
   "outputs": [
    {
     "data": {
      "text/html": [
       "<div>\n",
       "<style scoped>\n",
       "    .dataframe tbody tr th:only-of-type {\n",
       "        vertical-align: middle;\n",
       "    }\n",
       "\n",
       "    .dataframe tbody tr th {\n",
       "        vertical-align: top;\n",
       "    }\n",
       "\n",
       "    .dataframe thead th {\n",
       "        text-align: right;\n",
       "    }\n",
       "</style>\n",
       "<table border=\"1\" class=\"dataframe\">\n",
       "  <thead>\n",
       "    <tr style=\"text-align: right;\">\n",
       "      <th></th>\n",
       "      <th>time</th>\n",
       "      <th>sensor</th>\n",
       "      <th>H</th>\n",
       "    </tr>\n",
       "  </thead>\n",
       "  <tbody>\n",
       "    <tr>\n",
       "      <th>6038667</th>\n",
       "      <td>2018-03-13 11:41:00</td>\n",
       "      <td>HTU21</td>\n",
       "      <td>30.9</td>\n",
       "    </tr>\n",
       "    <tr>\n",
       "      <th>6038671</th>\n",
       "      <td>2018-03-13 11:41:00</td>\n",
       "      <td>HTU21</td>\n",
       "      <td>30.9</td>\n",
       "    </tr>\n",
       "    <tr>\n",
       "      <th>6038675</th>\n",
       "      <td>2018-03-13 11:41:00</td>\n",
       "      <td>HTU21</td>\n",
       "      <td>30.8</td>\n",
       "    </tr>\n",
       "    <tr>\n",
       "      <th>6038679</th>\n",
       "      <td>2018-03-13 11:41:00</td>\n",
       "      <td>HTU21</td>\n",
       "      <td>30.9</td>\n",
       "    </tr>\n",
       "    <tr>\n",
       "      <th>6038684</th>\n",
       "      <td>2018-03-13 11:41:00</td>\n",
       "      <td>HTU21</td>\n",
       "      <td>30.9</td>\n",
       "    </tr>\n",
       "    <tr>\n",
       "      <th>6038688</th>\n",
       "      <td>2018-03-13 11:41:00</td>\n",
       "      <td>HTU21</td>\n",
       "      <td>30.8</td>\n",
       "    </tr>\n",
       "    <tr>\n",
       "      <th>6038692</th>\n",
       "      <td>2018-03-13 11:41:00</td>\n",
       "      <td>HTU21</td>\n",
       "      <td>30.8</td>\n",
       "    </tr>\n",
       "    <tr>\n",
       "      <th>6038696</th>\n",
       "      <td>2018-03-13 11:42:00</td>\n",
       "      <td>HTU21</td>\n",
       "      <td>30.8</td>\n",
       "    </tr>\n",
       "    <tr>\n",
       "      <th>6038700</th>\n",
       "      <td>2018-03-13 11:42:00</td>\n",
       "      <td>HTU21</td>\n",
       "      <td>31.0</td>\n",
       "    </tr>\n",
       "    <tr>\n",
       "      <th>6038705</th>\n",
       "      <td>2018-03-13 11:42:00</td>\n",
       "      <td>HTU21</td>\n",
       "      <td>33.6</td>\n",
       "    </tr>\n",
       "  </tbody>\n",
       "</table>\n",
       "</div>"
      ],
      "text/plain": [
       "                       time sensor     H\n",
       "6038667 2018-03-13 11:41:00  HTU21  30.9\n",
       "6038671 2018-03-13 11:41:00  HTU21  30.9\n",
       "6038675 2018-03-13 11:41:00  HTU21  30.8\n",
       "6038679 2018-03-13 11:41:00  HTU21  30.9\n",
       "6038684 2018-03-13 11:41:00  HTU21  30.9\n",
       "6038688 2018-03-13 11:41:00  HTU21  30.8\n",
       "6038692 2018-03-13 11:41:00  HTU21  30.8\n",
       "6038696 2018-03-13 11:42:00  HTU21  30.8\n",
       "6038700 2018-03-13 11:42:00  HTU21  31.0\n",
       "6038705 2018-03-13 11:42:00  HTU21  33.6"
      ]
     },
     "execution_count": 10,
     "metadata": {},
     "output_type": "execute_result"
    }
   ],
   "source": [
    "dsh.tail(10)"
   ]
  },
  {
   "cell_type": "code",
   "execution_count": 11,
   "metadata": {},
   "outputs": [
    {
     "data": {
      "text/html": [
       "<div>\n",
       "<style scoped>\n",
       "    .dataframe tbody tr th:only-of-type {\n",
       "        vertical-align: middle;\n",
       "    }\n",
       "\n",
       "    .dataframe tbody tr th {\n",
       "        vertical-align: top;\n",
       "    }\n",
       "\n",
       "    .dataframe thead th {\n",
       "        text-align: right;\n",
       "    }\n",
       "</style>\n",
       "<table border=\"1\" class=\"dataframe\">\n",
       "  <thead>\n",
       "    <tr style=\"text-align: right;\">\n",
       "      <th></th>\n",
       "      <th>time</th>\n",
       "      <th>sensor</th>\n",
       "      <th>H</th>\n",
       "    </tr>\n",
       "  </thead>\n",
       "  <tbody>\n",
       "    <tr>\n",
       "      <th>count</th>\n",
       "      <td>1428193</td>\n",
       "      <td>1428193</td>\n",
       "      <td>1.428193e+06</td>\n",
       "    </tr>\n",
       "    <tr>\n",
       "      <th>unique</th>\n",
       "      <td>101243</td>\n",
       "      <td>1</td>\n",
       "      <td>NaN</td>\n",
       "    </tr>\n",
       "    <tr>\n",
       "      <th>top</th>\n",
       "      <td>2017-12-22 10:08:00</td>\n",
       "      <td>HTU21</td>\n",
       "      <td>NaN</td>\n",
       "    </tr>\n",
       "    <tr>\n",
       "      <th>freq</th>\n",
       "      <td>29</td>\n",
       "      <td>1428193</td>\n",
       "      <td>NaN</td>\n",
       "    </tr>\n",
       "    <tr>\n",
       "      <th>first</th>\n",
       "      <td>2017-12-22 08:12:00</td>\n",
       "      <td>NaN</td>\n",
       "      <td>NaN</td>\n",
       "    </tr>\n",
       "    <tr>\n",
       "      <th>last</th>\n",
       "      <td>2018-03-13 11:42:00</td>\n",
       "      <td>NaN</td>\n",
       "      <td>NaN</td>\n",
       "    </tr>\n",
       "    <tr>\n",
       "      <th>mean</th>\n",
       "      <td>NaN</td>\n",
       "      <td>NaN</td>\n",
       "      <td>3.434112e+01</td>\n",
       "    </tr>\n",
       "    <tr>\n",
       "      <th>std</th>\n",
       "      <td>NaN</td>\n",
       "      <td>NaN</td>\n",
       "      <td>4.953964e+00</td>\n",
       "    </tr>\n",
       "    <tr>\n",
       "      <th>min</th>\n",
       "      <td>NaN</td>\n",
       "      <td>NaN</td>\n",
       "      <td>1.970000e+01</td>\n",
       "    </tr>\n",
       "    <tr>\n",
       "      <th>25%</th>\n",
       "      <td>NaN</td>\n",
       "      <td>NaN</td>\n",
       "      <td>3.040000e+01</td>\n",
       "    </tr>\n",
       "    <tr>\n",
       "      <th>50%</th>\n",
       "      <td>NaN</td>\n",
       "      <td>NaN</td>\n",
       "      <td>3.440000e+01</td>\n",
       "    </tr>\n",
       "    <tr>\n",
       "      <th>75%</th>\n",
       "      <td>NaN</td>\n",
       "      <td>NaN</td>\n",
       "      <td>3.730000e+01</td>\n",
       "    </tr>\n",
       "    <tr>\n",
       "      <th>max</th>\n",
       "      <td>NaN</td>\n",
       "      <td>NaN</td>\n",
       "      <td>5.630000e+01</td>\n",
       "    </tr>\n",
       "  </tbody>\n",
       "</table>\n",
       "</div>"
      ],
      "text/plain": [
       "                       time   sensor             H\n",
       "count               1428193  1428193  1.428193e+06\n",
       "unique               101243        1           NaN\n",
       "top     2017-12-22 10:08:00    HTU21           NaN\n",
       "freq                     29  1428193           NaN\n",
       "first   2017-12-22 08:12:00      NaN           NaN\n",
       "last    2018-03-13 11:42:00      NaN           NaN\n",
       "mean                    NaN      NaN  3.434112e+01\n",
       "std                     NaN      NaN  4.953964e+00\n",
       "min                     NaN      NaN  1.970000e+01\n",
       "25%                     NaN      NaN  3.040000e+01\n",
       "50%                     NaN      NaN  3.440000e+01\n",
       "75%                     NaN      NaN  3.730000e+01\n",
       "max                     NaN      NaN  5.630000e+01"
      ]
     },
     "execution_count": 11,
     "metadata": {},
     "output_type": "execute_result"
    }
   ],
   "source": [
    "dsh.describe(include=\"all\")"
   ]
  },
  {
   "cell_type": "code",
   "execution_count": 12,
   "metadata": {},
   "outputs": [],
   "source": [
    "dst = ds[pd.notnull(ds[\"T\"])]\n",
    "dst = dst[[\"time\",\"sensor\",\"T\"]]\n",
    "dst[\"time\"] = dst[\"time\"].values.astype('<M8[m]')\n",
    "dst = dst[dst[\"sensor\"]==\"DHT22\"]"
   ]
  },
  {
   "cell_type": "code",
   "execution_count": 13,
   "metadata": {},
   "outputs": [
    {
     "data": {
      "text/plain": [
       "(1440150, 3)"
      ]
     },
     "execution_count": 13,
     "metadata": {},
     "output_type": "execute_result"
    }
   ],
   "source": [
    "dst.shape"
   ]
  },
  {
   "cell_type": "code",
   "execution_count": 14,
   "metadata": {},
   "outputs": [
    {
     "data": {
      "text/plain": [
       "DHT22    1440150\n",
       "Name: sensor, dtype: int64"
      ]
     },
     "execution_count": 14,
     "metadata": {},
     "output_type": "execute_result"
    }
   ],
   "source": [
    "dst[\"sensor\"].value_counts()"
   ]
  },
  {
   "cell_type": "code",
   "execution_count": 15,
   "metadata": {},
   "outputs": [
    {
     "data": {
      "text/html": [
       "<div>\n",
       "<style scoped>\n",
       "    .dataframe tbody tr th:only-of-type {\n",
       "        vertical-align: middle;\n",
       "    }\n",
       "\n",
       "    .dataframe tbody tr th {\n",
       "        vertical-align: top;\n",
       "    }\n",
       "\n",
       "    .dataframe thead th {\n",
       "        text-align: right;\n",
       "    }\n",
       "</style>\n",
       "<table border=\"1\" class=\"dataframe\">\n",
       "  <thead>\n",
       "    <tr style=\"text-align: right;\">\n",
       "      <th></th>\n",
       "      <th>time</th>\n",
       "      <th>sensor</th>\n",
       "      <th>T</th>\n",
       "    </tr>\n",
       "  </thead>\n",
       "  <tbody>\n",
       "    <tr>\n",
       "      <th>count</th>\n",
       "      <td>1440150</td>\n",
       "      <td>1440150</td>\n",
       "      <td>1.440150e+06</td>\n",
       "    </tr>\n",
       "    <tr>\n",
       "      <th>unique</th>\n",
       "      <td>102457</td>\n",
       "      <td>1</td>\n",
       "      <td>NaN</td>\n",
       "    </tr>\n",
       "    <tr>\n",
       "      <th>top</th>\n",
       "      <td>2017-12-22 09:37:00</td>\n",
       "      <td>DHT22</td>\n",
       "      <td>NaN</td>\n",
       "    </tr>\n",
       "    <tr>\n",
       "      <th>freq</th>\n",
       "      <td>29</td>\n",
       "      <td>1440150</td>\n",
       "      <td>NaN</td>\n",
       "    </tr>\n",
       "    <tr>\n",
       "      <th>first</th>\n",
       "      <td>2017-12-19 14:07:00</td>\n",
       "      <td>NaN</td>\n",
       "      <td>NaN</td>\n",
       "    </tr>\n",
       "    <tr>\n",
       "      <th>last</th>\n",
       "      <td>2018-03-13 11:42:00</td>\n",
       "      <td>NaN</td>\n",
       "      <td>NaN</td>\n",
       "    </tr>\n",
       "    <tr>\n",
       "      <th>mean</th>\n",
       "      <td>NaN</td>\n",
       "      <td>NaN</td>\n",
       "      <td>2.299986e+01</td>\n",
       "    </tr>\n",
       "    <tr>\n",
       "      <th>std</th>\n",
       "      <td>NaN</td>\n",
       "      <td>NaN</td>\n",
       "      <td>2.480804e+00</td>\n",
       "    </tr>\n",
       "    <tr>\n",
       "      <th>min</th>\n",
       "      <td>NaN</td>\n",
       "      <td>NaN</td>\n",
       "      <td>1.670000e+01</td>\n",
       "    </tr>\n",
       "    <tr>\n",
       "      <th>25%</th>\n",
       "      <td>NaN</td>\n",
       "      <td>NaN</td>\n",
       "      <td>2.170000e+01</td>\n",
       "    </tr>\n",
       "    <tr>\n",
       "      <th>50%</th>\n",
       "      <td>NaN</td>\n",
       "      <td>NaN</td>\n",
       "      <td>2.330000e+01</td>\n",
       "    </tr>\n",
       "    <tr>\n",
       "      <th>75%</th>\n",
       "      <td>NaN</td>\n",
       "      <td>NaN</td>\n",
       "      <td>2.480000e+01</td>\n",
       "    </tr>\n",
       "    <tr>\n",
       "      <th>max</th>\n",
       "      <td>NaN</td>\n",
       "      <td>NaN</td>\n",
       "      <td>2.980000e+01</td>\n",
       "    </tr>\n",
       "  </tbody>\n",
       "</table>\n",
       "</div>"
      ],
      "text/plain": [
       "                       time   sensor             T\n",
       "count               1440150  1440150  1.440150e+06\n",
       "unique               102457        1           NaN\n",
       "top     2017-12-22 09:37:00    DHT22           NaN\n",
       "freq                     29  1440150           NaN\n",
       "first   2017-12-19 14:07:00      NaN           NaN\n",
       "last    2018-03-13 11:42:00      NaN           NaN\n",
       "mean                    NaN      NaN  2.299986e+01\n",
       "std                     NaN      NaN  2.480804e+00\n",
       "min                     NaN      NaN  1.670000e+01\n",
       "25%                     NaN      NaN  2.170000e+01\n",
       "50%                     NaN      NaN  2.330000e+01\n",
       "75%                     NaN      NaN  2.480000e+01\n",
       "max                     NaN      NaN  2.980000e+01"
      ]
     },
     "execution_count": 15,
     "metadata": {},
     "output_type": "execute_result"
    }
   ],
   "source": [
    "dst.describe(include=\"all\")"
   ]
  },
  {
   "cell_type": "code",
   "execution_count": 16,
   "metadata": {},
   "outputs": [],
   "source": [
    "dsp = ds[pd.notnull(ds[\"P\"])]\n",
    "dsp = dsp[[\"time\",\"sensor\",\"P\"]]\n",
    "dsp[\"time\"] = dsp[\"time\"].values.astype('<M8[m]')\n",
    "dsp = dsp[dsp[\"sensor\"]==\"BMP280\"]\n",
    "dsp[\"P\"] = (dsp[\"P\"] - 1000) / 2"
   ]
  },
  {
   "cell_type": "code",
   "execution_count": 17,
   "metadata": {},
   "outputs": [
    {
     "data": {
      "text/plain": [
       "(1422788, 3)"
      ]
     },
     "execution_count": 17,
     "metadata": {},
     "output_type": "execute_result"
    }
   ],
   "source": [
    "dsp.shape"
   ]
  },
  {
   "cell_type": "code",
   "execution_count": 18,
   "metadata": {},
   "outputs": [
    {
     "data": {
      "text/html": [
       "<div>\n",
       "<style scoped>\n",
       "    .dataframe tbody tr th:only-of-type {\n",
       "        vertical-align: middle;\n",
       "    }\n",
       "\n",
       "    .dataframe tbody tr th {\n",
       "        vertical-align: top;\n",
       "    }\n",
       "\n",
       "    .dataframe thead th {\n",
       "        text-align: right;\n",
       "    }\n",
       "</style>\n",
       "<table border=\"1\" class=\"dataframe\">\n",
       "  <thead>\n",
       "    <tr style=\"text-align: right;\">\n",
       "      <th></th>\n",
       "      <th>time</th>\n",
       "      <th>sensor</th>\n",
       "      <th>P</th>\n",
       "    </tr>\n",
       "  </thead>\n",
       "  <tbody>\n",
       "    <tr>\n",
       "      <th>261243</th>\n",
       "      <td>2017-12-25 07:58:00</td>\n",
       "      <td>BMP280</td>\n",
       "      <td>13.865</td>\n",
       "    </tr>\n",
       "    <tr>\n",
       "      <th>5780172</th>\n",
       "      <td>2018-03-10 12:32:00</td>\n",
       "      <td>BMP280</td>\n",
       "      <td>2.330</td>\n",
       "    </tr>\n",
       "    <tr>\n",
       "      <th>5981241</th>\n",
       "      <td>2018-03-12 19:44:00</td>\n",
       "      <td>BMP280</td>\n",
       "      <td>7.100</td>\n",
       "    </tr>\n",
       "    <tr>\n",
       "      <th>3595727</th>\n",
       "      <td>2018-02-08 22:48:00</td>\n",
       "      <td>BMP280</td>\n",
       "      <td>9.830</td>\n",
       "    </tr>\n",
       "    <tr>\n",
       "      <th>3371271</th>\n",
       "      <td>2018-02-06 09:07:00</td>\n",
       "      <td>BMP280</td>\n",
       "      <td>3.930</td>\n",
       "    </tr>\n",
       "    <tr>\n",
       "      <th>5860921</th>\n",
       "      <td>2018-03-11 10:33:00</td>\n",
       "      <td>BMP280</td>\n",
       "      <td>0.885</td>\n",
       "    </tr>\n",
       "    <tr>\n",
       "      <th>2048746</th>\n",
       "      <td>2018-01-20 18:57:00</td>\n",
       "      <td>BMP280</td>\n",
       "      <td>8.615</td>\n",
       "    </tr>\n",
       "    <tr>\n",
       "      <th>4828456</th>\n",
       "      <td>2018-02-27 13:47:00</td>\n",
       "      <td>BMP280</td>\n",
       "      <td>4.190</td>\n",
       "    </tr>\n",
       "    <tr>\n",
       "      <th>4969667</th>\n",
       "      <td>2018-03-01 05:01:00</td>\n",
       "      <td>BMP280</td>\n",
       "      <td>-3.065</td>\n",
       "    </tr>\n",
       "    <tr>\n",
       "      <th>2246450</th>\n",
       "      <td>2018-01-23 03:46:00</td>\n",
       "      <td>BMP280</td>\n",
       "      <td>12.800</td>\n",
       "    </tr>\n",
       "  </tbody>\n",
       "</table>\n",
       "</div>"
      ],
      "text/plain": [
       "                       time  sensor       P\n",
       "261243  2017-12-25 07:58:00  BMP280  13.865\n",
       "5780172 2018-03-10 12:32:00  BMP280   2.330\n",
       "5981241 2018-03-12 19:44:00  BMP280   7.100\n",
       "3595727 2018-02-08 22:48:00  BMP280   9.830\n",
       "3371271 2018-02-06 09:07:00  BMP280   3.930\n",
       "5860921 2018-03-11 10:33:00  BMP280   0.885\n",
       "2048746 2018-01-20 18:57:00  BMP280   8.615\n",
       "4828456 2018-02-27 13:47:00  BMP280   4.190\n",
       "4969667 2018-03-01 05:01:00  BMP280  -3.065\n",
       "2246450 2018-01-23 03:46:00  BMP280  12.800"
      ]
     },
     "execution_count": 18,
     "metadata": {},
     "output_type": "execute_result"
    }
   ],
   "source": [
    "dsp.sample(10)"
   ]
  },
  {
   "cell_type": "code",
   "execution_count": 19,
   "metadata": {},
   "outputs": [
    {
     "data": {
      "text/html": [
       "<div>\n",
       "<style scoped>\n",
       "    .dataframe tbody tr th:only-of-type {\n",
       "        vertical-align: middle;\n",
       "    }\n",
       "\n",
       "    .dataframe tbody tr th {\n",
       "        vertical-align: top;\n",
       "    }\n",
       "\n",
       "    .dataframe thead th {\n",
       "        text-align: right;\n",
       "    }\n",
       "</style>\n",
       "<table border=\"1\" class=\"dataframe\">\n",
       "  <thead>\n",
       "    <tr style=\"text-align: right;\">\n",
       "      <th></th>\n",
       "      <th>time</th>\n",
       "      <th>sensor</th>\n",
       "      <th>P</th>\n",
       "    </tr>\n",
       "  </thead>\n",
       "  <tbody>\n",
       "    <tr>\n",
       "      <th>count</th>\n",
       "      <td>1422788</td>\n",
       "      <td>1422788</td>\n",
       "      <td>1.422788e+06</td>\n",
       "    </tr>\n",
       "    <tr>\n",
       "      <th>unique</th>\n",
       "      <td>101097</td>\n",
       "      <td>1</td>\n",
       "      <td>NaN</td>\n",
       "    </tr>\n",
       "    <tr>\n",
       "      <th>top</th>\n",
       "      <td>2017-12-22 11:18:00</td>\n",
       "      <td>BMP280</td>\n",
       "      <td>NaN</td>\n",
       "    </tr>\n",
       "    <tr>\n",
       "      <th>freq</th>\n",
       "      <td>20</td>\n",
       "      <td>1422788</td>\n",
       "      <td>NaN</td>\n",
       "    </tr>\n",
       "    <tr>\n",
       "      <th>first</th>\n",
       "      <td>2017-12-22 10:52:00</td>\n",
       "      <td>NaN</td>\n",
       "      <td>NaN</td>\n",
       "    </tr>\n",
       "    <tr>\n",
       "      <th>last</th>\n",
       "      <td>2018-03-13 11:42:00</td>\n",
       "      <td>NaN</td>\n",
       "      <td>NaN</td>\n",
       "    </tr>\n",
       "    <tr>\n",
       "      <th>mean</th>\n",
       "      <td>NaN</td>\n",
       "      <td>NaN</td>\n",
       "      <td>7.845136e+00</td>\n",
       "    </tr>\n",
       "    <tr>\n",
       "      <th>std</th>\n",
       "      <td>NaN</td>\n",
       "      <td>NaN</td>\n",
       "      <td>5.055313e+00</td>\n",
       "    </tr>\n",
       "    <tr>\n",
       "      <th>min</th>\n",
       "      <td>NaN</td>\n",
       "      <td>NaN</td>\n",
       "      <td>-7.190000e+00</td>\n",
       "    </tr>\n",
       "    <tr>\n",
       "      <th>25%</th>\n",
       "      <td>NaN</td>\n",
       "      <td>NaN</td>\n",
       "      <td>4.335000e+00</td>\n",
       "    </tr>\n",
       "    <tr>\n",
       "      <th>50%</th>\n",
       "      <td>NaN</td>\n",
       "      <td>NaN</td>\n",
       "      <td>8.485000e+00</td>\n",
       "    </tr>\n",
       "    <tr>\n",
       "      <th>75%</th>\n",
       "      <td>NaN</td>\n",
       "      <td>NaN</td>\n",
       "      <td>1.128500e+01</td>\n",
       "    </tr>\n",
       "    <tr>\n",
       "      <th>max</th>\n",
       "      <td>NaN</td>\n",
       "      <td>NaN</td>\n",
       "      <td>1.952500e+01</td>\n",
       "    </tr>\n",
       "  </tbody>\n",
       "</table>\n",
       "</div>"
      ],
      "text/plain": [
       "                       time   sensor             P\n",
       "count               1422788  1422788  1.422788e+06\n",
       "unique               101097        1           NaN\n",
       "top     2017-12-22 11:18:00   BMP280           NaN\n",
       "freq                     20  1422788           NaN\n",
       "first   2017-12-22 10:52:00      NaN           NaN\n",
       "last    2018-03-13 11:42:00      NaN           NaN\n",
       "mean                    NaN      NaN  7.845136e+00\n",
       "std                     NaN      NaN  5.055313e+00\n",
       "min                     NaN      NaN -7.190000e+00\n",
       "25%                     NaN      NaN  4.335000e+00\n",
       "50%                     NaN      NaN  8.485000e+00\n",
       "75%                     NaN      NaN  1.128500e+01\n",
       "max                     NaN      NaN  1.952500e+01"
      ]
     },
     "execution_count": 19,
     "metadata": {},
     "output_type": "execute_result"
    }
   ],
   "source": [
    "dsp.describe(include='all')"
   ]
  },
  {
   "cell_type": "code",
   "execution_count": 20,
   "metadata": {},
   "outputs": [],
   "source": [
    "fig_size = plt.rcParams[\"figure.figsize\"]\n",
    "fig_size[0] = 20\n",
    "fig_size[1] = 10\n",
    "plt.rcParams[\"figure.figsize\"] = fig_size"
   ]
  },
  {
   "cell_type": "code",
   "execution_count": 21,
   "metadata": {},
   "outputs": [
    {
     "data": {
      "text/plain": [
       "<matplotlib.legend.Legend at 0x7f6e9c640b50>"
      ]
     },
     "execution_count": 21,
     "metadata": {},
     "output_type": "execute_result"
    },
    {
     "data": {
      "image/png": "[encoded data removed]",
      "text/plain": [
       "<matplotlib.figure.Figure at 0x7f6e9b0e9b10>"
      ]
     },
     "metadata": {},
     "output_type": "display_data"
    }
   ],
   "source": [
    "plt.plot(dsh[\"time\"], dsh[\"H\"], \"blue\", label=\"Humidity / HTU21\")\n",
    "plt.plot(dst[\"time\"], dst[\"T\"], \"red\", label=\"Temperature / DHT22\")\n",
    "plt.plot(dsp[\"time\"], dsp[\"P\"], \"green\", label=\"Pressure / BMP280\")\n",
    "plt.xlabel(\"Time\")\n",
    "plt.ylabel(\"\")\n",
    "plt.legend()"
   ]
  },
  {
   "cell_type": "code",
   "execution_count": 22,
   "metadata": {},
   "outputs": [],
   "source": [
    "# Relation between best Humidity, Temperature and Pressure sensors\n",
    "# Temperatura and Humidity have similar evolution\n",
    "# Presure evolution doesn't seem related with rest of measures"
   ]
  },
  {
   "cell_type": "code",
   "execution_count": 23,
   "metadata": {},
   "outputs": [],
   "source": [
    "# Focusing in last 2 weeks\n",
    "dst2 = dst[dst[\"time\"]>\"2018-02-25\"]\n",
    "dst2 = dst2[dst2[\"time\"]<\"2018-03-12\"]\n",
    "dsh2 = dsh[dsh[\"time\"]>\"2018-02-25\"]\n",
    "dsh2 = dsh2[dsh2[\"time\"]<\"2018-03-12\"]\n",
    "dsp2 = dsp[dsp[\"time\"]>\"2018-02-25\"]\n",
    "dsp2 = dsp2[dsp2[\"time\"]<\"2018-03-12\"]"
   ]
  },
  {
   "cell_type": "code",
   "execution_count": 24,
   "metadata": {},
   "outputs": [],
   "source": [
    "fig_size = plt.rcParams[\"figure.figsize\"]\n",
    "fig_size[0] = 20\n",
    "fig_size[1] = 10\n",
    "plt.rcParams[\"figure.figsize\"] = fig_size"
   ]
  },
  {
   "cell_type": "code",
   "execution_count": 25,
   "metadata": {},
   "outputs": [
    {
     "data": {
      "text/plain": [
       "<matplotlib.legend.Legend at 0x7f6ea83d3710>"
      ]
     },
     "execution_count": 25,
     "metadata": {},
     "output_type": "execute_result"
    },
    {
     "data": {
      "image/png": "[encoded data removed]",
      "text/plain": [
       "<matplotlib.figure.Figure at 0x7f6ea3d92dd0>"
      ]
     },
     "metadata": {},
     "output_type": "display_data"
    }
   ],
   "source": [
    "plt.plot(dsh2[\"time\"], dsh2[\"H\"], \"blue\", label=\"Humidity / HTU21\")\n",
    "plt.plot(dst2[\"time\"], dst2[\"T\"], \"red\", label=\"Temperature / DHT22\")\n",
    "plt.plot(dsp2[\"time\"], dsp2[\"P\"], \"green\", label=\"Pressure / BMP280\")\n",
    "plt.xlabel(\"Time\")\n",
    "plt.ylabel(\"\")\n",
    "plt.legend()"
   ]
  },
  {
   "cell_type": "code",
   "execution_count": 26,
   "metadata": {},
   "outputs": [],
   "source": [
    "# Pressure and humidity have inverse relation. There cicles of some days\n",
    "# In variations intraday temperature and humidity have inverse relation, especialy in daily rise of temperature."
   ]
  },
  {
   "cell_type": "code",
   "execution_count": null,
   "metadata": {},
   "outputs": [],
   "source": []
  }
 ],
 "metadata": {
  "kernelspec": {
   "display_name": "Python 2",
   "language": "python",
   "name": "python2"
  },
  "language_info": {
   "codemirror_mode": {
    "name": "ipython",
    "version": 2
   },
   "file_extension": ".py",
   "mimetype": "text/x-python",
   "name": "python",
   "nbconvert_exporter": "python",
   "pygments_lexer": "ipython2",
   "version": "2.7.14"
  }
 },
 "nbformat": 4,
 "nbformat_minor": 2
}
