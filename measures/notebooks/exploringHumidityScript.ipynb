{
 "cells": [
  {
   "cell_type": "code",
   "execution_count": 1,
   "metadata": {},
   "outputs": [],
   "source": [
    "import pandas as pd\n",
    "import matplotlib.pyplot as plt\n",
    "import numpy as np"
   ]
  },
  {
   "cell_type": "code",
   "execution_count": 2,
   "metadata": {},
   "outputs": [],
   "source": [
    "url=\"../data/processed/sorted_output.csv\"\n",
    "parse_dates=[\"time\"]\n",
    "ds = pd.read_csv(url, parse_dates=parse_dates)"
   ]
  },
  {
   "cell_type": "code",
   "execution_count": 3,
   "metadata": {},
   "outputs": [
    {
     "data": {
      "text/plain": [
       "(6038706, 5)"
      ]
     },
     "execution_count": 3,
     "metadata": {},
     "output_type": "execute_result"
    }
   ],
   "source": [
    "ds.shape"
   ]
  },
  {
   "cell_type": "code",
   "execution_count": 4,
   "metadata": {},
   "outputs": [
    {
     "data": {
      "text/plain": [
       "DHT22     1522253\n",
       "HTU21     1510105\n",
       "BMP280    1504469\n",
       "DHT11     1501874\n",
       "DM280           5\n",
       "Name: sensor, dtype: int64"
      ]
     },
     "execution_count": 4,
     "metadata": {},
     "output_type": "execute_result"
    }
   ],
   "source": [
    "ds[\"sensor\"].value_counts()"
   ]
  },
  {
   "cell_type": "code",
   "execution_count": 5,
   "metadata": {},
   "outputs": [
    {
     "data": {
      "text/html": [
       "<div>\n",
       "<style scoped>\n",
       "    .dataframe tbody tr th:only-of-type {\n",
       "        vertical-align: middle;\n",
       "    }\n",
       "\n",
       "    .dataframe tbody tr th {\n",
       "        vertical-align: top;\n",
       "    }\n",
       "\n",
       "    .dataframe thead th {\n",
       "        text-align: right;\n",
       "    }\n",
       "</style>\n",
       "<table border=\"1\" class=\"dataframe\">\n",
       "  <thead>\n",
       "    <tr style=\"text-align: right;\">\n",
       "      <th></th>\n",
       "      <th>time</th>\n",
       "      <th>sensor</th>\n",
       "      <th>H</th>\n",
       "      <th>P</th>\n",
       "      <th>T</th>\n",
       "    </tr>\n",
       "  </thead>\n",
       "  <tbody>\n",
       "    <tr>\n",
       "      <th>961517</th>\n",
       "      <td>2018-01-02 07:35:18</td>\n",
       "      <td>BMP280</td>\n",
       "      <td>NaN</td>\n",
       "      <td>1024.81</td>\n",
       "      <td>17.17</td>\n",
       "    </tr>\n",
       "    <tr>\n",
       "      <th>1887483</th>\n",
       "      <td>2018-01-18 20:31:12</td>\n",
       "      <td>DHT22</td>\n",
       "      <td>NaN</td>\n",
       "      <td>NaN</td>\n",
       "      <td>24.00</td>\n",
       "    </tr>\n",
       "    <tr>\n",
       "      <th>4891257</th>\n",
       "      <td>2018-02-28 07:15:14</td>\n",
       "      <td>HTU21</td>\n",
       "      <td>29.0</td>\n",
       "      <td>NaN</td>\n",
       "      <td>20.02</td>\n",
       "    </tr>\n",
       "    <tr>\n",
       "      <th>5768902</th>\n",
       "      <td>2018-03-10 09:27:41</td>\n",
       "      <td>HTU21</td>\n",
       "      <td>37.8</td>\n",
       "      <td>NaN</td>\n",
       "      <td>23.82</td>\n",
       "    </tr>\n",
       "    <tr>\n",
       "      <th>538375</th>\n",
       "      <td>2017-12-28 11:48:39</td>\n",
       "      <td>BMP280</td>\n",
       "      <td>NaN</td>\n",
       "      <td>1008.37</td>\n",
       "      <td>16.56</td>\n",
       "    </tr>\n",
       "    <tr>\n",
       "      <th>4127679</th>\n",
       "      <td>2018-02-15 04:33:10</td>\n",
       "      <td>DHT22</td>\n",
       "      <td>1.0</td>\n",
       "      <td>NaN</td>\n",
       "      <td>22.90</td>\n",
       "    </tr>\n",
       "    <tr>\n",
       "      <th>5012147</th>\n",
       "      <td>2018-03-01 16:49:57</td>\n",
       "      <td>DHT11</td>\n",
       "      <td>34.0</td>\n",
       "      <td>NaN</td>\n",
       "      <td>23.00</td>\n",
       "    </tr>\n",
       "    <tr>\n",
       "      <th>4642977</th>\n",
       "      <td>2018-02-21 09:38:23</td>\n",
       "      <td>BMP280</td>\n",
       "      <td>NaN</td>\n",
       "      <td>1007.40</td>\n",
       "      <td>25.16</td>\n",
       "    </tr>\n",
       "    <tr>\n",
       "      <th>2966265</th>\n",
       "      <td>2018-02-01 17:19:08</td>\n",
       "      <td>HTU21</td>\n",
       "      <td>33.6</td>\n",
       "      <td>NaN</td>\n",
       "      <td>22.34</td>\n",
       "    </tr>\n",
       "    <tr>\n",
       "      <th>5779822</th>\n",
       "      <td>2018-03-10 12:26:17</td>\n",
       "      <td>DHT11</td>\n",
       "      <td>34.0</td>\n",
       "      <td>NaN</td>\n",
       "      <td>24.00</td>\n",
       "    </tr>\n",
       "  </tbody>\n",
       "</table>\n",
       "</div>"
      ],
      "text/plain": [
       "                       time  sensor     H        P      T\n",
       "961517  2018-01-02 07:35:18  BMP280   NaN  1024.81  17.17\n",
       "1887483 2018-01-18 20:31:12   DHT22   NaN      NaN  24.00\n",
       "4891257 2018-02-28 07:15:14   HTU21  29.0      NaN  20.02\n",
       "5768902 2018-03-10 09:27:41   HTU21  37.8      NaN  23.82\n",
       "538375  2017-12-28 11:48:39  BMP280   NaN  1008.37  16.56\n",
       "4127679 2018-02-15 04:33:10   DHT22   1.0      NaN  22.90\n",
       "5012147 2018-03-01 16:49:57   DHT11  34.0      NaN  23.00\n",
       "4642977 2018-02-21 09:38:23  BMP280   NaN  1007.40  25.16\n",
       "2966265 2018-02-01 17:19:08   HTU21  33.6      NaN  22.34\n",
       "5779822 2018-03-10 12:26:17   DHT11  34.0      NaN  24.00"
      ]
     },
     "execution_count": 5,
     "metadata": {},
     "output_type": "execute_result"
    }
   ],
   "source": [
    "ds.sample(10)"
   ]
  },
  {
   "cell_type": "code",
   "execution_count": 6,
   "metadata": {},
   "outputs": [
    {
     "data": {
      "text/html": [
       "<div>\n",
       "<style scoped>\n",
       "    .dataframe tbody tr th:only-of-type {\n",
       "        vertical-align: middle;\n",
       "    }\n",
       "\n",
       "    .dataframe tbody tr th {\n",
       "        vertical-align: top;\n",
       "    }\n",
       "\n",
       "    .dataframe thead th {\n",
       "        text-align: right;\n",
       "    }\n",
       "</style>\n",
       "<table border=\"1\" class=\"dataframe\">\n",
       "  <thead>\n",
       "    <tr style=\"text-align: right;\">\n",
       "      <th></th>\n",
       "      <th>time</th>\n",
       "      <th>sensor</th>\n",
       "      <th>H</th>\n",
       "      <th>P</th>\n",
       "      <th>T</th>\n",
       "    </tr>\n",
       "  </thead>\n",
       "  <tbody>\n",
       "    <tr>\n",
       "      <th>count</th>\n",
       "      <td>6038706</td>\n",
       "      <td>6038706</td>\n",
       "      <td>4.288839e+06</td>\n",
       "      <td>1.422792e+06</td>\n",
       "      <td>5.711640e+06</td>\n",
       "    </tr>\n",
       "    <tr>\n",
       "      <th>unique</th>\n",
       "      <td>5943769</td>\n",
       "      <td>5</td>\n",
       "      <td>NaN</td>\n",
       "      <td>NaN</td>\n",
       "      <td>NaN</td>\n",
       "    </tr>\n",
       "    <tr>\n",
       "      <th>top</th>\n",
       "      <td>2018-03-13 11:35:48</td>\n",
       "      <td>DHT22</td>\n",
       "      <td>NaN</td>\n",
       "      <td>NaN</td>\n",
       "      <td>NaN</td>\n",
       "    </tr>\n",
       "    <tr>\n",
       "      <th>freq</th>\n",
       "      <td>4</td>\n",
       "      <td>1522253</td>\n",
       "      <td>NaN</td>\n",
       "      <td>NaN</td>\n",
       "      <td>NaN</td>\n",
       "    </tr>\n",
       "    <tr>\n",
       "      <th>first</th>\n",
       "      <td>2017-12-19 14:07:18</td>\n",
       "      <td>NaN</td>\n",
       "      <td>NaN</td>\n",
       "      <td>NaN</td>\n",
       "      <td>NaN</td>\n",
       "    </tr>\n",
       "    <tr>\n",
       "      <th>last</th>\n",
       "      <td>2018-03-13 11:42:12</td>\n",
       "      <td>NaN</td>\n",
       "      <td>NaN</td>\n",
       "      <td>NaN</td>\n",
       "      <td>NaN</td>\n",
       "    </tr>\n",
       "    <tr>\n",
       "      <th>mean</th>\n",
       "      <td>NaN</td>\n",
       "      <td>NaN</td>\n",
       "      <td>2.336465e+01</td>\n",
       "      <td>1.015690e+03</td>\n",
       "      <td>2.201185e+01</td>\n",
       "    </tr>\n",
       "    <tr>\n",
       "      <th>std</th>\n",
       "      <td>NaN</td>\n",
       "      <td>NaN</td>\n",
       "      <td>1.617257e+01</td>\n",
       "      <td>1.011069e+01</td>\n",
       "      <td>2.631197e+00</td>\n",
       "    </tr>\n",
       "    <tr>\n",
       "      <th>min</th>\n",
       "      <td>NaN</td>\n",
       "      <td>NaN</td>\n",
       "      <td>1.000000e+00</td>\n",
       "      <td>9.856200e+02</td>\n",
       "      <td>1.500000e+01</td>\n",
       "    </tr>\n",
       "    <tr>\n",
       "      <th>25%</th>\n",
       "      <td>NaN</td>\n",
       "      <td>NaN</td>\n",
       "      <td>1.000000e+00</td>\n",
       "      <td>1.008670e+03</td>\n",
       "      <td>2.063000e+01</td>\n",
       "    </tr>\n",
       "    <tr>\n",
       "      <th>50%</th>\n",
       "      <td>NaN</td>\n",
       "      <td>NaN</td>\n",
       "      <td>3.360000e+01</td>\n",
       "      <td>1.016970e+03</td>\n",
       "      <td>2.211000e+01</td>\n",
       "    </tr>\n",
       "    <tr>\n",
       "      <th>75%</th>\n",
       "      <td>NaN</td>\n",
       "      <td>NaN</td>\n",
       "      <td>3.500000e+01</td>\n",
       "      <td>1.022570e+03</td>\n",
       "      <td>2.393000e+01</td>\n",
       "    </tr>\n",
       "    <tr>\n",
       "      <th>max</th>\n",
       "      <td>NaN</td>\n",
       "      <td>NaN</td>\n",
       "      <td>9.990000e+01</td>\n",
       "      <td>1.040000e+03</td>\n",
       "      <td>2.980000e+01</td>\n",
       "    </tr>\n",
       "  </tbody>\n",
       "</table>\n",
       "</div>"
      ],
      "text/plain": [
       "                       time   sensor             H             P             T\n",
       "count               6038706  6038706  4.288839e+06  1.422792e+06  5.711640e+06\n",
       "unique              5943769        5           NaN           NaN           NaN\n",
       "top     2018-03-13 11:35:48    DHT22           NaN           NaN           NaN\n",
       "freq                      4  1522253           NaN           NaN           NaN\n",
       "first   2017-12-19 14:07:18      NaN           NaN           NaN           NaN\n",
       "last    2018-03-13 11:42:12      NaN           NaN           NaN           NaN\n",
       "mean                    NaN      NaN  2.336465e+01  1.015690e+03  2.201185e+01\n",
       "std                     NaN      NaN  1.617257e+01  1.011069e+01  2.631197e+00\n",
       "min                     NaN      NaN  1.000000e+00  9.856200e+02  1.500000e+01\n",
       "25%                     NaN      NaN  1.000000e+00  1.008670e+03  2.063000e+01\n",
       "50%                     NaN      NaN  3.360000e+01  1.016970e+03  2.211000e+01\n",
       "75%                     NaN      NaN  3.500000e+01  1.022570e+03  2.393000e+01\n",
       "max                     NaN      NaN  9.990000e+01  1.040000e+03  2.980000e+01"
      ]
     },
     "execution_count": 6,
     "metadata": {},
     "output_type": "execute_result"
    }
   ],
   "source": [
    "ds.describe(include=\"all\")"
   ]
  },
  {
   "cell_type": "code",
   "execution_count": 7,
   "metadata": {},
   "outputs": [],
   "source": [
    "# Analizing only Humidity information\n",
    "dsh = ds[pd.notnull(ds[\"H\"])]\n",
    "dsh = dsh[dsh[\"H\"] > 1]\n",
    "dsh = dsh[dsh[\"H\"]<99.9]\n",
    "dsh = dsh[dsh[\"time\"]>\"2017-12-22\"]\n",
    "dsh = dsh[[\"time\",\"sensor\",\"H\"]]\n",
    "dsh[\"time\"] = dsh[\"time\"].values.astype('<M8[m]')"
   ]
  },
  {
   "cell_type": "code",
   "execution_count": 8,
   "metadata": {},
   "outputs": [
    {
     "data": {
      "text/plain": [
       "(2848495, 3)"
      ]
     },
     "execution_count": 8,
     "metadata": {},
     "output_type": "execute_result"
    }
   ],
   "source": [
    "dsh.shape"
   ]
  },
  {
   "cell_type": "code",
   "execution_count": 9,
   "metadata": {
    "scrolled": true
   },
   "outputs": [
    {
     "data": {
      "text/plain": [
       "HTU21    1428193\n",
       "DHT11    1420302\n",
       "Name: sensor, dtype: int64"
      ]
     },
     "execution_count": 9,
     "metadata": {},
     "output_type": "execute_result"
    }
   ],
   "source": [
    "dsh[\"sensor\"].value_counts()"
   ]
  },
  {
   "cell_type": "code",
   "execution_count": null,
   "metadata": {
    "scrolled": true
   },
   "outputs": [
    {
     "data": {
      "text/html": [
       "<div>\n",
       "<style scoped>\n",
       "    .dataframe tbody tr th:only-of-type {\n",
       "        vertical-align: middle;\n",
       "    }\n",
       "\n",
       "    .dataframe tbody tr th {\n",
       "        vertical-align: top;\n",
       "    }\n",
       "\n",
       "    .dataframe thead th {\n",
       "        text-align: right;\n",
       "    }\n",
       "</style>\n",
       "<table border=\"1\" class=\"dataframe\">\n",
       "  <thead>\n",
       "    <tr style=\"text-align: right;\">\n",
       "      <th></th>\n",
       "      <th>time</th>\n",
       "      <th>sensor</th>\n",
       "      <th>H</th>\n",
       "    </tr>\n",
       "  </thead>\n",
       "  <tbody>\n",
       "    <tr>\n",
       "      <th>6038686</th>\n",
       "      <td>2018-03-13 11:41:00</td>\n",
       "      <td>DHT11</td>\n",
       "      <td>33.0</td>\n",
       "    </tr>\n",
       "    <tr>\n",
       "      <th>6038688</th>\n",
       "      <td>2018-03-13 11:41:00</td>\n",
       "      <td>HTU21</td>\n",
       "      <td>30.8</td>\n",
       "    </tr>\n",
       "    <tr>\n",
       "      <th>6038690</th>\n",
       "      <td>2018-03-13 11:41:00</td>\n",
       "      <td>DHT11</td>\n",
       "      <td>33.0</td>\n",
       "    </tr>\n",
       "    <tr>\n",
       "      <th>6038692</th>\n",
       "      <td>2018-03-13 11:41:00</td>\n",
       "      <td>HTU21</td>\n",
       "      <td>30.8</td>\n",
       "    </tr>\n",
       "    <tr>\n",
       "      <th>6038694</th>\n",
       "      <td>2018-03-13 11:42:00</td>\n",
       "      <td>DHT11</td>\n",
       "      <td>33.0</td>\n",
       "    </tr>\n",
       "    <tr>\n",
       "      <th>6038696</th>\n",
       "      <td>2018-03-13 11:42:00</td>\n",
       "      <td>HTU21</td>\n",
       "      <td>30.8</td>\n",
       "    </tr>\n",
       "    <tr>\n",
       "      <th>6038698</th>\n",
       "      <td>2018-03-13 11:42:00</td>\n",
       "      <td>DHT11</td>\n",
       "      <td>33.0</td>\n",
       "    </tr>\n",
       "    <tr>\n",
       "      <th>6038700</th>\n",
       "      <td>2018-03-13 11:42:00</td>\n",
       "      <td>HTU21</td>\n",
       "      <td>31.0</td>\n",
       "    </tr>\n",
       "    <tr>\n",
       "      <th>6038702</th>\n",
       "      <td>2018-03-13 11:42:00</td>\n",
       "      <td>DHT11</td>\n",
       "      <td>33.0</td>\n",
       "    </tr>\n",
       "    <tr>\n",
       "      <th>6038705</th>\n",
       "      <td>2018-03-13 11:42:00</td>\n",
       "      <td>HTU21</td>\n",
       "      <td>33.6</td>\n",
       "    </tr>\n",
       "  </tbody>\n",
       "</table>\n",
       "</div>"
      ],
      "text/plain": [
       "                       time sensor     H\n",
       "6038686 2018-03-13 11:41:00  DHT11  33.0\n",
       "6038688 2018-03-13 11:41:00  HTU21  30.8\n",
       "6038690 2018-03-13 11:41:00  DHT11  33.0\n",
       "6038692 2018-03-13 11:41:00  HTU21  30.8\n",
       "6038694 2018-03-13 11:42:00  DHT11  33.0\n",
       "6038696 2018-03-13 11:42:00  HTU21  30.8\n",
       "6038698 2018-03-13 11:42:00  DHT11  33.0\n",
       "6038700 2018-03-13 11:42:00  HTU21  31.0\n",
       "6038702 2018-03-13 11:42:00  DHT11  33.0\n",
       "6038705 2018-03-13 11:42:00  HTU21  33.6"
      ]
     },
     "execution_count": 10,
     "metadata": {},
     "output_type": "execute_result"
    }
   ],
   "source": [
    "dsh.tail(10)"
   ]
  },
  {
   "cell_type": "code",
   "execution_count": null,
   "metadata": {},
   "outputs": [],
   "source": [
    "dsh.describe(include=\"all\")"
   ]
  },
  {
   "cell_type": "code",
   "execution_count": null,
   "metadata": {},
   "outputs": [],
   "source": [
    "dshv = pd.pivot_table(dsh, index=[\"time\"], columns=[\"sensor\"], values=\"H\")\n",
    "dshv.reset_index(inplace=True)"
   ]
  },
  {
   "cell_type": "code",
   "execution_count": null,
   "metadata": {},
   "outputs": [],
   "source": [
    "dshv.sample(10)"
   ]
  },
  {
   "cell_type": "code",
   "execution_count": null,
   "metadata": {},
   "outputs": [],
   "source": [
    "dshv.describe(include=\"all\")"
   ]
  },
  {
   "cell_type": "code",
   "execution_count": null,
   "metadata": {},
   "outputs": [],
   "source": [
    "fig_size = plt.rcParams[\"figure.figsize\"]\n",
    "fig_size[0] = 20\n",
    "fig_size[1] = 10\n",
    "plt.rcParams[\"figure.figsize\"] = fig_size"
   ]
  },
  {
   "cell_type": "code",
   "execution_count": null,
   "metadata": {},
   "outputs": [],
   "source": [
    "plt.plot(dshv[\"time\"], dshv[\"HTU21\"], \"#8888ff\", label=\"HTU21\")\n",
    "plt.plot(dshv[\"time\"], dshv[\"DHT11\"], \"#000088\", label=\"DHT11\")\n",
    "plt.xlabel(\"Time\")\n",
    "plt.ylabel(\"Humidity\")\n",
    "plt.legend()"
   ]
  },
  {
   "cell_type": "code",
   "execution_count": null,
   "metadata": {},
   "outputs": [],
   "source": [
    "# Only two sensors have humidity measurements\n",
    "# DHT11 has low precision measurement"
   ]
  }
 ],
 "metadata": {
  "kernelspec": {
   "display_name": "Python 2",
   "language": "python",
   "name": "python2"
  },
  "language_info": {
   "codemirror_mode": {
    "name": "ipython",
    "version": 2
   },
   "file_extension": ".py",
   "mimetype": "text/x-python",
   "name": "python",
   "nbconvert_exporter": "python",
   "pygments_lexer": "ipython2",
   "version": "2.7.14"
  }
 },
 "nbformat": 4,
 "nbformat_minor": 2
}
