{
 "cells": [
  {
   "cell_type": "code",
   "execution_count": 26,
   "metadata": {},
   "outputs": [],
   "source": [
    "import pandas as pd\n",
    "import matplotlib.pyplot as plt\n",
    "import numpy as np"
   ]
  },
  {
   "cell_type": "code",
   "execution_count": 27,
   "metadata": {},
   "outputs": [],
   "source": [
    "ds = pd.read_csv(\"sorted_output.csv\")"
   ]
  },
  {
   "cell_type": "code",
   "execution_count": 28,
   "metadata": {},
   "outputs": [
    {
     "data": {
      "text/plain": [
       "H-DHT22     1440160\n",
       "T-DHT22     1440150\n",
       "T-HTU21     1428383\n",
       "H-HTU21     1428377\n",
       "T-BMP280    1422795\n",
       "P-BMP280    1422788\n",
       "T-DHT11     1420308\n",
       "H-DHT11     1420302\n",
       "P-DM280           4\n",
       "T-DM280           4\n",
       "Name: sensor, dtype: int64"
      ]
     },
     "execution_count": 28,
     "metadata": {},
     "output_type": "execute_result"
    }
   ],
   "source": [
    "ds[\"sensor\"].value_counts()"
   ]
  },
  {
   "cell_type": "code",
   "execution_count": 29,
   "metadata": {
    "scrolled": true
   },
   "outputs": [
    {
     "data": {
      "text/html": [
       "<div>\n",
       "<style scoped>\n",
       "    .dataframe tbody tr th:only-of-type {\n",
       "        vertical-align: middle;\n",
       "    }\n",
       "\n",
       "    .dataframe tbody tr th {\n",
       "        vertical-align: top;\n",
       "    }\n",
       "\n",
       "    .dataframe thead th {\n",
       "        text-align: right;\n",
       "    }\n",
       "</style>\n",
       "<table border=\"1\" class=\"dataframe\">\n",
       "  <thead>\n",
       "    <tr style=\"text-align: right;\">\n",
       "      <th></th>\n",
       "      <th>value</th>\n",
       "    </tr>\n",
       "  </thead>\n",
       "  <tbody>\n",
       "    <tr>\n",
       "      <th>count</th>\n",
       "      <td>1.142327e+07</td>\n",
       "    </tr>\n",
       "    <tr>\n",
       "      <th>mean</th>\n",
       "      <td>1.462845e+02</td>\n",
       "    </tr>\n",
       "    <tr>\n",
       "      <th>std</th>\n",
       "      <td>3.281063e+02</td>\n",
       "    </tr>\n",
       "    <tr>\n",
       "      <th>min</th>\n",
       "      <td>1.000000e+00</td>\n",
       "    </tr>\n",
       "    <tr>\n",
       "      <th>25%</th>\n",
       "      <td>2.060000e+01</td>\n",
       "    </tr>\n",
       "    <tr>\n",
       "      <th>50%</th>\n",
       "      <td>2.390000e+01</td>\n",
       "    </tr>\n",
       "    <tr>\n",
       "      <th>75%</th>\n",
       "      <td>3.500000e+01</td>\n",
       "    </tr>\n",
       "    <tr>\n",
       "      <th>max</th>\n",
       "      <td>1.040000e+03</td>\n",
       "    </tr>\n",
       "  </tbody>\n",
       "</table>\n",
       "</div>"
      ],
      "text/plain": [
       "              value\n",
       "count  1.142327e+07\n",
       "mean   1.462845e+02\n",
       "std    3.281063e+02\n",
       "min    1.000000e+00\n",
       "25%    2.060000e+01\n",
       "50%    2.390000e+01\n",
       "75%    3.500000e+01\n",
       "max    1.040000e+03"
      ]
     },
     "execution_count": 29,
     "metadata": {},
     "output_type": "execute_result"
    }
   ],
   "source": [
    "ds.describe()"
   ]
  },
  {
   "cell_type": "code",
   "execution_count": 30,
   "metadata": {},
   "outputs": [],
   "source": [
    "ds.replace({\"sensor\" : {\"H-DHT22\" : 0, \"T-DHT22\" : 1, \"T-HTU21\" : 2, \"H-HTU21\" : 3, \"T-BMP280\" : 4, \"P-BMP280\" : 5, \"T-DHT11\" : 6, \"H-DHT11\" : 7, \"P-DM280\" : 8, \"T-DM280\" : 9}}, inplace=True)\n",
    "colors = np.array([\"red\", \"blue\", \"green\", \"orange\", \"black\", \"gray\", \"pink\", \"purple\", \"yellow\", \"brown\"])"
   ]
  },
  {
   "cell_type": "code",
   "execution_count": 31,
   "metadata": {},
   "outputs": [
    {
     "data": {
      "text/html": [
       "<div>\n",
       "<style scoped>\n",
       "    .dataframe tbody tr th:only-of-type {\n",
       "        vertical-align: middle;\n",
       "    }\n",
       "\n",
       "    .dataframe tbody tr th {\n",
       "        vertical-align: top;\n",
       "    }\n",
       "\n",
       "    .dataframe thead th {\n",
       "        text-align: right;\n",
       "    }\n",
       "</style>\n",
       "<table border=\"1\" class=\"dataframe\">\n",
       "  <thead>\n",
       "    <tr style=\"text-align: right;\">\n",
       "      <th></th>\n",
       "      <th>sensor</th>\n",
       "      <th>value</th>\n",
       "      <th>time</th>\n",
       "    </tr>\n",
       "  </thead>\n",
       "  <tbody>\n",
       "    <tr>\n",
       "      <th>0</th>\n",
       "      <td>0</td>\n",
       "      <td>15.7</td>\n",
       "      <td>2017-12-19 14:07:18</td>\n",
       "    </tr>\n",
       "    <tr>\n",
       "      <th>1</th>\n",
       "      <td>1</td>\n",
       "      <td>25.5</td>\n",
       "      <td>2017-12-19 14:07:18</td>\n",
       "    </tr>\n",
       "    <tr>\n",
       "      <th>2</th>\n",
       "      <td>1</td>\n",
       "      <td>25.5</td>\n",
       "      <td>2017-12-19 14:07:25</td>\n",
       "    </tr>\n",
       "    <tr>\n",
       "      <th>3</th>\n",
       "      <td>0</td>\n",
       "      <td>15.7</td>\n",
       "      <td>2017-12-19 14:07:25</td>\n",
       "    </tr>\n",
       "    <tr>\n",
       "      <th>4</th>\n",
       "      <td>1</td>\n",
       "      <td>25.6</td>\n",
       "      <td>2017-12-19 14:07:32</td>\n",
       "    </tr>\n",
       "    <tr>\n",
       "      <th>5</th>\n",
       "      <td>0</td>\n",
       "      <td>15.7</td>\n",
       "      <td>2017-12-19 14:07:32</td>\n",
       "    </tr>\n",
       "    <tr>\n",
       "      <th>6</th>\n",
       "      <td>1</td>\n",
       "      <td>25.6</td>\n",
       "      <td>2017-12-19 14:07:38</td>\n",
       "    </tr>\n",
       "    <tr>\n",
       "      <th>7</th>\n",
       "      <td>0</td>\n",
       "      <td>15.7</td>\n",
       "      <td>2017-12-19 14:07:38</td>\n",
       "    </tr>\n",
       "    <tr>\n",
       "      <th>8</th>\n",
       "      <td>0</td>\n",
       "      <td>15.7</td>\n",
       "      <td>2017-12-19 14:07:45</td>\n",
       "    </tr>\n",
       "    <tr>\n",
       "      <th>9</th>\n",
       "      <td>1</td>\n",
       "      <td>25.6</td>\n",
       "      <td>2017-12-19 14:07:45</td>\n",
       "    </tr>\n",
       "    <tr>\n",
       "      <th>10</th>\n",
       "      <td>1</td>\n",
       "      <td>25.6</td>\n",
       "      <td>2017-12-19 14:07:52</td>\n",
       "    </tr>\n",
       "    <tr>\n",
       "      <th>11</th>\n",
       "      <td>0</td>\n",
       "      <td>15.8</td>\n",
       "      <td>2017-12-19 14:07:52</td>\n",
       "    </tr>\n",
       "    <tr>\n",
       "      <th>12</th>\n",
       "      <td>0</td>\n",
       "      <td>16.3</td>\n",
       "      <td>2017-12-19 14:07:59</td>\n",
       "    </tr>\n",
       "    <tr>\n",
       "      <th>13</th>\n",
       "      <td>1</td>\n",
       "      <td>25.6</td>\n",
       "      <td>2017-12-19 14:07:59</td>\n",
       "    </tr>\n",
       "    <tr>\n",
       "      <th>14</th>\n",
       "      <td>0</td>\n",
       "      <td>16.1</td>\n",
       "      <td>2017-12-19 14:08:06</td>\n",
       "    </tr>\n",
       "    <tr>\n",
       "      <th>15</th>\n",
       "      <td>1</td>\n",
       "      <td>25.5</td>\n",
       "      <td>2017-12-19 14:08:06</td>\n",
       "    </tr>\n",
       "    <tr>\n",
       "      <th>16</th>\n",
       "      <td>1</td>\n",
       "      <td>25.5</td>\n",
       "      <td>2017-12-19 14:08:12</td>\n",
       "    </tr>\n",
       "    <tr>\n",
       "      <th>17</th>\n",
       "      <td>0</td>\n",
       "      <td>16.5</td>\n",
       "      <td>2017-12-19 14:08:12</td>\n",
       "    </tr>\n",
       "    <tr>\n",
       "      <th>18</th>\n",
       "      <td>1</td>\n",
       "      <td>25.5</td>\n",
       "      <td>2017-12-19 14:08:19</td>\n",
       "    </tr>\n",
       "    <tr>\n",
       "      <th>19</th>\n",
       "      <td>0</td>\n",
       "      <td>15.8</td>\n",
       "      <td>2017-12-19 14:08:19</td>\n",
       "    </tr>\n",
       "  </tbody>\n",
       "</table>\n",
       "</div>"
      ],
      "text/plain": [
       "    sensor  value                 time\n",
       "0        0   15.7  2017-12-19 14:07:18\n",
       "1        1   25.5  2017-12-19 14:07:18\n",
       "2        1   25.5  2017-12-19 14:07:25\n",
       "3        0   15.7  2017-12-19 14:07:25\n",
       "4        1   25.6  2017-12-19 14:07:32\n",
       "5        0   15.7  2017-12-19 14:07:32\n",
       "6        1   25.6  2017-12-19 14:07:38\n",
       "7        0   15.7  2017-12-19 14:07:38\n",
       "8        0   15.7  2017-12-19 14:07:45\n",
       "9        1   25.6  2017-12-19 14:07:45\n",
       "10       1   25.6  2017-12-19 14:07:52\n",
       "11       0   15.8  2017-12-19 14:07:52\n",
       "12       0   16.3  2017-12-19 14:07:59\n",
       "13       1   25.6  2017-12-19 14:07:59\n",
       "14       0   16.1  2017-12-19 14:08:06\n",
       "15       1   25.5  2017-12-19 14:08:06\n",
       "16       1   25.5  2017-12-19 14:08:12\n",
       "17       0   16.5  2017-12-19 14:08:12\n",
       "18       1   25.5  2017-12-19 14:08:19\n",
       "19       0   15.8  2017-12-19 14:08:19"
      ]
     },
     "execution_count": 31,
     "metadata": {},
     "output_type": "execute_result"
    }
   ],
   "source": [
    "ds.head(20)"
   ]
  },
  {
   "cell_type": "code",
   "execution_count": 32,
   "metadata": {},
   "outputs": [],
   "source": [
    "fig_size = plt.rcParams[\"figure.figsize\"]\n",
    "fig_size[0] = 10\n",
    "fig_size[1] = 10\n",
    "plt.rcParams[\"figure.figsize\"] = fig_size"
   ]
  },
  {
   "cell_type": "code",
   "execution_count": 33,
   "metadata": {},
   "outputs": [
    {
     "data": {
      "image/png": "[encoded data removed]",
      "text/plain": [
       "<matplotlib.figure.Figure at 0x7f26f372f208>"
      ]
     },
     "metadata": {},
     "output_type": "display_data"
    }
   ],
   "source": [
    "data = ds.head(30)\n",
    "plt.scatter(data[\"value\"], data[\"time\"], c = colors[ds[\"sensor\"]], s=40)\n",
    "\n",
    "plt.show()"
   ]
  },
  {
   "cell_type": "code",
   "execution_count": null,
   "metadata": {},
   "outputs": [],
   "source": []
  }
 ],
 "metadata": {
  "kernelspec": {
   "display_name": "Python 3",
   "language": "python",
   "name": "python3"
  },
  "language_info": {
   "codemirror_mode": {
    "name": "ipython",
    "version": 3
   },
   "file_extension": ".py",
   "mimetype": "text/x-python",
   "name": "python",
   "nbconvert_exporter": "python",
   "pygments_lexer": "ipython3",
   "version": "3.6.4"
  }
 },
 "nbformat": 4,
 "nbformat_minor": 2
}
