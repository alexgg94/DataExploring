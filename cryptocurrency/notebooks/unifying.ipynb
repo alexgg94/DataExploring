{
 "cells": [
  {
   "cell_type": "code",
   "execution_count": 1,
   "metadata": {},
   "outputs": [],
   "source": [
    "# read original data files and create unified data file"
   ]
  },
  {
   "cell_type": "code",
   "execution_count": 4,
   "metadata": {},
   "outputs": [
    {
     "name": "stdout",
     "output_type": "stream",
     "text": [
      "\u001b[33mbitcoin_dataset.csv Ignored\n",
      "\n",
      "\u001b[30mProcessing bitcoin_cash_price.csv\n",
      "\u001b[32m../data/raw/bitcoin_cash_price.csv Has been processed successfully\n",
      "\n",
      "\u001b[30mProcessing nem_price.csv\n",
      "\u001b[32m../data/raw/nem_price.csv Has been processed successfully\n",
      "\n",
      "\u001b[30mProcessing bitcoin_price.csv\n",
      "\u001b[32m../data/raw/bitcoin_price.csv Has been processed successfully\n",
      "\n",
      "\u001b[30mProcessing litecoin_price.csv\n",
      "\u001b[32m../data/raw/litecoin_price.csv Has been processed successfully\n",
      "\n",
      "\u001b[30mProcessing ethereum_price.csv\n",
      "\u001b[32m../data/raw/ethereum_price.csv Has been processed successfully\n",
      "\n",
      "\u001b[30mProcessing dash_price.csv\n",
      "\u001b[32m../data/raw/dash_price.csv Has been processed successfully\n",
      "\n",
      "\u001b[30mProcessing omisego_price.csv\n",
      "\u001b[32m../data/raw/omisego_price.csv Has been processed successfully\n",
      "\n",
      "\u001b[30mProcessing bitconnect_price.csv\n",
      "\u001b[32m../data/raw/bitconnect_price.csv Has been processed successfully\n",
      "\n",
      "\u001b[30mProcessing numeraire_price.csv\n",
      "\u001b[32m../data/raw/numeraire_price.csv Has been processed successfully\n",
      "\n",
      "\u001b[30mProcessing qtum_price.csv\n",
      "\u001b[32m../data/raw/qtum_price.csv Has been processed successfully\n",
      "\n",
      "\u001b[30mProcessing waves_price.csv\n",
      "\u001b[32m../data/raw/waves_price.csv Has been processed successfully\n",
      "\n",
      "\u001b[33methereum_dataset.csv Ignored\n",
      "\n",
      "\u001b[30mProcessing ethereum_classic_price.csv\n",
      "\u001b[32m../data/raw/ethereum_classic_price.csv Has been processed successfully\n",
      "\n",
      "\u001b[30mProcessing neo_price.csv\n",
      "\u001b[32m../data/raw/neo_price.csv Has been processed successfully\n",
      "\n",
      "\u001b[33mcryptocurrencypricehistory.tgz Ignored\n",
      "\n",
      "\u001b[30mProcessing stratis_price.csv\n",
      "\u001b[32m../data/raw/stratis_price.csv Has been processed successfully\n",
      "\n",
      "\u001b[30mProcessing ripple_price.csv\n",
      "\u001b[32m../data/raw/ripple_price.csv Has been processed successfully\n",
      "\n",
      "\u001b[30mProcessing iota_price.csv\n",
      "\u001b[32m../data/raw/iota_price.csv Has been processed successfully\n",
      "\n",
      "\u001b[30mProcessing monero_price.csv\n",
      "\u001b[32m../data/raw/monero_price.csv Has been processed successfully\n",
      "\n",
      "\u001b[30mJoining temporal files \n",
      "6.csv\n",
      "1.csv\n",
      "12.csv\n",
      "5.csv\n",
      "7.csv\n",
      "9.csv\n",
      "10.csv\n",
      "11.csv\n",
      "0.csv\n",
      "2.csv\n",
      "13.csv\n",
      "4.csv\n",
      "14.csv\n",
      "8.csv\n",
      "16.csv\n",
      "3.csv\n",
      "15.csv\n",
      "\u001b[32mJoining process done! \n"
     ]
    }
   ],
   "source": [
    "%run ../Scripts/unifyingScript2.py"
   ]
  },
  {
   "cell_type": "code",
   "execution_count": null,
   "metadata": {},
   "outputs": [],
   "source": []
  }
 ],
 "metadata": {
  "kernelspec": {
   "display_name": "Python 2",
   "language": "python",
   "name": "python2"
  },
  "language_info": {
   "codemirror_mode": {
    "name": "ipython",
    "version": 2
   },
   "file_extension": ".py",
   "mimetype": "text/x-python",
   "name": "python",
   "nbconvert_exporter": "python",
   "pygments_lexer": "ipython2",
   "version": "2.7.14"
  }
 },
 "nbformat": 4,
 "nbformat_minor": 2
}
